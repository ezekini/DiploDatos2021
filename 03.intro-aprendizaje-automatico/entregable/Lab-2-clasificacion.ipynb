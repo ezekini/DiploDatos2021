{
  "nbformat": 4,
  "nbformat_minor": 0,
  "metadata": {
    "kernelspec": {
      "display_name": "Python 3",
      "language": "python",
      "name": "python3"
    },
    "language_info": {
      "codemirror_mode": {
        "name": "ipython",
        "version": 3
      },
      "file_extension": ".py",
      "mimetype": "text/x-python",
      "name": "python",
      "nbconvert_exporter": "python",
      "pygments_lexer": "ipython3",
      "version": "3.8.10"
    },
    "colab": {
      "name": "Lab-2.ipynb",
      "provenance": [],
      "collapsed_sections": []
    }
  },
  "cells": [
    {
      "cell_type": "markdown",
      "metadata": {
        "id": "KWDQP5rTI_RP"
      },
      "source": [
        "# Laboratorio 2: Armado de un esquema de aprendizaje automático\n",
        "\n",
        "## Integrantes:\n",
        "\n",
        "* Devesa, María Roberta\n",
        "* Feldfeber, Ivana\n",
        "* Finzi, Nadia\n",
        "* Kinigsberg, Ezequiel \n",
        "* Villafañe, Roxana Noelia\n",
        "\n",
        "### Consignas\n",
        "\n",
        "En el laboratorio final se espera que puedan poner en práctica los conocimientos adquiridos en el curso, trabajando con un conjunto de datos de clasificación.\n",
        "\n",
        "El objetivo es que se introduzcan en el desarrollo de un esquema para hacer tareas de aprendizaje automático: selección de un modelo, ajuste de hiperparámetros y evaluación.\n",
        "\n",
        "El conjunto de datos a utilizar está en `./data/loan_data.csv`. Si abren el archivo verán que al principio (las líneas que empiezan con `#`) describen el conjunto de datos y sus atributos (incluyendo el atributo de etiqueta o clase).\n",
        "\n",
        "Se espera que hagan uso de las herramientas vistas en el curso. Se espera que hagan uso especialmente de las herramientas brindadas por `scikit-learn`."
      ]
    },
    {
      "cell_type": "code",
      "metadata": {
        "id": "ZjRcIlKKI_RT"
      },
      "source": [
        "import numpy as np\n",
        "import pandas as pd\n",
        "import seaborn as sns\n",
        "\n",
        "# TODO: Agregar las librerías que hagan falta\n",
        "from sklearn.model_selection import train_test_split\n",
        "from sklearn.linear_model import SGDClassifier\n",
        "from sklearn.metrics import accuracy_score, precision_score, recall_score, f1_score, confusion_matrix\n",
        "from sklearn.linear_model import SGDClassifier\n",
        "from sklearn.preprocessing import StandardScaler\n",
        "from sklearn.pipeline import make_pipeline\n",
        "from sklearn.metrics import classification_report\n",
        "from sklearn.model_selection import GridSearchCV\n",
        "from sklearn.tree import DecisionTreeClassifier"
      ],
      "execution_count": null,
      "outputs": []
    },
    {
      "cell_type": "markdown",
      "metadata": {
        "id": "KVlSYOnQI_RU"
      },
      "source": [
        "## Carga de datos y división en entrenamiento y evaluación\n",
        "\n",
        "La celda siguiente se encarga de la carga de datos (haciendo uso de pandas). Estos serán los que se trabajarán en el resto del laboratorio."
      ]
    },
    {
      "cell_type": "code",
      "metadata": {
        "id": "xHzc5G2-I_RU"
      },
      "source": [
        "dataset = pd.read_csv(\"https://raw.githubusercontent.com/DiploDatos/IntroduccionAprendizajeAutomatico/master/data/loan_data.csv\", comment=\"#\")\n",
        "\n",
        "# División entre instancias y etiquetas\n",
        "X, y = dataset.iloc[:, 1:], dataset.TARGET\n",
        "\n",
        "# división entre entrenamiento y evaluación\n",
        "X_train, X_test, y_train, y_test = train_test_split(X, y, test_size=0.2, random_state=0)"
      ],
      "execution_count": null,
      "outputs": []
    },
    {
      "cell_type": "code",
      "metadata": {
        "colab": {
          "base_uri": "https://localhost:8080/"
        },
        "id": "RP5ZxwntMJ6_",
        "outputId": "345bce08-73be-4edd-c360-9bf307d8e9a2"
      },
      "source": [
        "dataset"
      ],
      "execution_count": null,
      "outputs": [
        {
          "output_type": "execute_result",
          "data": {
            "text/html": [
              "<div>\n",
              "<style scoped>\n",
              "    .dataframe tbody tr th:only-of-type {\n",
              "        vertical-align: middle;\n",
              "    }\n",
              "\n",
              "    .dataframe tbody tr th {\n",
              "        vertical-align: top;\n",
              "    }\n",
              "\n",
              "    .dataframe thead th {\n",
              "        text-align: right;\n",
              "    }\n",
              "</style>\n",
              "<table border=\"1\" class=\"dataframe\">\n",
              "  <thead>\n",
              "    <tr style=\"text-align: right;\">\n",
              "      <th></th>\n",
              "      <th>TARGET</th>\n",
              "      <th>LOAN</th>\n",
              "      <th>MORTDUE</th>\n",
              "      <th>VALUE</th>\n",
              "      <th>YOJ</th>\n",
              "      <th>DEROG</th>\n",
              "      <th>DELINQ</th>\n",
              "      <th>CLAGE</th>\n",
              "      <th>NINQ</th>\n",
              "      <th>CLNO</th>\n",
              "      <th>DEBTINC</th>\n",
              "    </tr>\n",
              "  </thead>\n",
              "  <tbody>\n",
              "    <tr>\n",
              "      <th>0</th>\n",
              "      <td>0</td>\n",
              "      <td>4700</td>\n",
              "      <td>88026.0</td>\n",
              "      <td>115506.0</td>\n",
              "      <td>6.0</td>\n",
              "      <td>0.0</td>\n",
              "      <td>0.0</td>\n",
              "      <td>182.248332</td>\n",
              "      <td>0.0</td>\n",
              "      <td>27.0</td>\n",
              "      <td>29.209023</td>\n",
              "    </tr>\n",
              "    <tr>\n",
              "      <th>1</th>\n",
              "      <td>0</td>\n",
              "      <td>19300</td>\n",
              "      <td>39926.0</td>\n",
              "      <td>101208.0</td>\n",
              "      <td>4.0</td>\n",
              "      <td>0.0</td>\n",
              "      <td>0.0</td>\n",
              "      <td>140.051638</td>\n",
              "      <td>0.0</td>\n",
              "      <td>14.0</td>\n",
              "      <td>31.545694</td>\n",
              "    </tr>\n",
              "    <tr>\n",
              "      <th>2</th>\n",
              "      <td>0</td>\n",
              "      <td>5700</td>\n",
              "      <td>71556.0</td>\n",
              "      <td>79538.0</td>\n",
              "      <td>2.0</td>\n",
              "      <td>0.0</td>\n",
              "      <td>0.0</td>\n",
              "      <td>92.643085</td>\n",
              "      <td>0.0</td>\n",
              "      <td>15.0</td>\n",
              "      <td>41.210012</td>\n",
              "    </tr>\n",
              "    <tr>\n",
              "      <th>3</th>\n",
              "      <td>0</td>\n",
              "      <td>13000</td>\n",
              "      <td>44875.0</td>\n",
              "      <td>57713.0</td>\n",
              "      <td>0.0</td>\n",
              "      <td>1.0</td>\n",
              "      <td>0.0</td>\n",
              "      <td>184.990324</td>\n",
              "      <td>1.0</td>\n",
              "      <td>12.0</td>\n",
              "      <td>28.602076</td>\n",
              "    </tr>\n",
              "    <tr>\n",
              "      <th>4</th>\n",
              "      <td>0</td>\n",
              "      <td>19300</td>\n",
              "      <td>72752.0</td>\n",
              "      <td>106084.0</td>\n",
              "      <td>11.0</td>\n",
              "      <td>0.0</td>\n",
              "      <td>0.0</td>\n",
              "      <td>193.707100</td>\n",
              "      <td>1.0</td>\n",
              "      <td>13.0</td>\n",
              "      <td>30.686106</td>\n",
              "    </tr>\n",
              "    <tr>\n",
              "      <th>...</th>\n",
              "      <td>...</td>\n",
              "      <td>...</td>\n",
              "      <td>...</td>\n",
              "      <td>...</td>\n",
              "      <td>...</td>\n",
              "      <td>...</td>\n",
              "      <td>...</td>\n",
              "      <td>...</td>\n",
              "      <td>...</td>\n",
              "      <td>...</td>\n",
              "      <td>...</td>\n",
              "    </tr>\n",
              "    <tr>\n",
              "      <th>1849</th>\n",
              "      <td>1</td>\n",
              "      <td>53400</td>\n",
              "      <td>228236.0</td>\n",
              "      <td>305514.0</td>\n",
              "      <td>6.0</td>\n",
              "      <td>0.0</td>\n",
              "      <td>0.0</td>\n",
              "      <td>11.148069</td>\n",
              "      <td>0.0</td>\n",
              "      <td>2.0</td>\n",
              "      <td>34.558417</td>\n",
              "    </tr>\n",
              "    <tr>\n",
              "      <th>1850</th>\n",
              "      <td>1</td>\n",
              "      <td>53600</td>\n",
              "      <td>235895.0</td>\n",
              "      <td>299772.0</td>\n",
              "      <td>5.0</td>\n",
              "      <td>0.0</td>\n",
              "      <td>0.0</td>\n",
              "      <td>112.748282</td>\n",
              "      <td>7.0</td>\n",
              "      <td>22.0</td>\n",
              "      <td>44.945929</td>\n",
              "    </tr>\n",
              "    <tr>\n",
              "      <th>1851</th>\n",
              "      <td>1</td>\n",
              "      <td>53600</td>\n",
              "      <td>208197.0</td>\n",
              "      <td>297280.0</td>\n",
              "      <td>4.0</td>\n",
              "      <td>1.0</td>\n",
              "      <td>1.0</td>\n",
              "      <td>160.485251</td>\n",
              "      <td>2.0</td>\n",
              "      <td>29.0</td>\n",
              "      <td>41.646731</td>\n",
              "    </tr>\n",
              "    <tr>\n",
              "      <th>1852</th>\n",
              "      <td>1</td>\n",
              "      <td>65500</td>\n",
              "      <td>205156.0</td>\n",
              "      <td>290239.0</td>\n",
              "      <td>2.0</td>\n",
              "      <td>0.0</td>\n",
              "      <td>0.0</td>\n",
              "      <td>98.808206</td>\n",
              "      <td>1.0</td>\n",
              "      <td>21.0</td>\n",
              "      <td>144.189001</td>\n",
              "    </tr>\n",
              "    <tr>\n",
              "      <th>1853</th>\n",
              "      <td>1</td>\n",
              "      <td>77400</td>\n",
              "      <td>87651.0</td>\n",
              "      <td>224630.0</td>\n",
              "      <td>9.0</td>\n",
              "      <td>0.0</td>\n",
              "      <td>2.0</td>\n",
              "      <td>73.469630</td>\n",
              "      <td>3.0</td>\n",
              "      <td>13.0</td>\n",
              "      <td>40.929793</td>\n",
              "    </tr>\n",
              "  </tbody>\n",
              "</table>\n",
              "<p>1854 rows × 11 columns</p>\n",
              "</div>"
            ],
            "text/plain": [
              "      TARGET   LOAN   MORTDUE     VALUE  ...       CLAGE  NINQ  CLNO     DEBTINC\n",
              "0          0   4700   88026.0  115506.0  ...  182.248332   0.0  27.0   29.209023\n",
              "1          0  19300   39926.0  101208.0  ...  140.051638   0.0  14.0   31.545694\n",
              "2          0   5700   71556.0   79538.0  ...   92.643085   0.0  15.0   41.210012\n",
              "3          0  13000   44875.0   57713.0  ...  184.990324   1.0  12.0   28.602076\n",
              "4          0  19300   72752.0  106084.0  ...  193.707100   1.0  13.0   30.686106\n",
              "...      ...    ...       ...       ...  ...         ...   ...   ...         ...\n",
              "1849       1  53400  228236.0  305514.0  ...   11.148069   0.0   2.0   34.558417\n",
              "1850       1  53600  235895.0  299772.0  ...  112.748282   7.0  22.0   44.945929\n",
              "1851       1  53600  208197.0  297280.0  ...  160.485251   2.0  29.0   41.646731\n",
              "1852       1  65500  205156.0  290239.0  ...   98.808206   1.0  21.0  144.189001\n",
              "1853       1  77400   87651.0  224630.0  ...   73.469630   3.0  13.0   40.929793\n",
              "\n",
              "[1854 rows x 11 columns]"
            ]
          },
          "metadata": {
            "tags": []
          },
          "execution_count": 3
        }
      ]
    },
    {
      "cell_type": "markdown",
      "metadata": {
        "id": "kOKefFv3I_RV"
      },
      "source": [
        "\n",
        "Documentación:\n",
        "\n",
        "- https://scikit-learn.org/stable/modules/generated/sklearn.model_selection.train_test_split.html"
      ]
    },
    {
      "cell_type": "markdown",
      "metadata": {
        "id": "jCP4tMy4I_RV"
      },
      "source": [
        "## Ejercicio 1: Descripción de los Datos y la Tarea\n",
        "\n",
        "Responder las siguientes preguntas:\n",
        "\n",
        "1. ¿De qué se trata el conjunto de datos?\n",
        "2. ¿Cuál es la variable objetivo que hay que predecir? ¿Qué significado tiene?\n",
        "3. ¿Qué información (atributos) hay disponible para hacer la predicción?\n",
        "4. ¿Qué atributos imagina ud. que son los más determinantes para la predicción?\n",
        "\n",
        "**No hace falta escribir código para responder estas preguntas.**"
      ]
    },
    {
      "cell_type": "markdown",
      "metadata": {
        "id": "Jsl5ZusqMgAe"
      },
      "source": [
        "1) Los datos del dataset contienen información sobre créditos hipotecarios que se les otorgó a ciertas personas, junto con su historial crediticio. \n",
        "\n",
        "2) La variable objetivo sería el TARGET, que hace referencia a si se pagó o no el préstamo. Vale 0 cuando el cliente pagó el préstamo, y 1 cuando no. \n",
        "\n",
        "3) Los atributos disponibles son los siguientes:\n",
        "\n",
        "* 'LOAN' (préstamo): Monto de la solicitud de préstamo\n",
        "* 'MORTDUE': Monto adeudado de la hipoteca existente \n",
        "* 'VALUE': Valor de la propiedad actual\n",
        "* 'YOJ': Años en el trabajo actual\n",
        "* 'DEROG': Número de reportes derogados\n",
        "* 'DELINQ': Número de créditos adeudados\n",
        "* 'CLAGE': Antigüedad de la línea de crédito más antigua (en meses)\n",
        "* 'NINQ': Número de líneas de crédito recientes\n",
        "* 'CLNO': Número de líneas de crédito\n",
        "* 'DEBTINC': Relación deuda-ingresos\n",
        "\n",
        "4) Creemos que los atributos más determinantes podrían ser DEROG, DELINQ y DEBTINC. "
      ]
    },
    {
      "cell_type": "markdown",
      "metadata": {
        "id": "hp9kKpHaI_RW"
      },
      "source": [
        "## Ejercicio 2: Predicción con Modelos Lineales\n",
        "\n",
        "En este ejercicio se entrenarán modelos lineales de clasificación para predecir la variable objetivo.\n",
        "\n",
        "Para ello, deberán utilizar la clase SGDClassifier de scikit-learn.\n",
        "\n",
        "Documentación:\n",
        "- https://scikit-learn.org/stable/modules/sgd.html\n",
        "- https://scikit-learn.org/stable/modules/generated/sklearn.linear_model.SGDClassifier.html\n"
      ]
    },
    {
      "cell_type": "markdown",
      "metadata": {
        "id": "HgTYSfKCI_RW"
      },
      "source": [
        "### Ejercicio 2.1: SGDClassifier con hiperparámetros por defecto\n",
        "\n",
        "Entrenar y evaluar el clasificador SGDClassifier usando los valores por omisión de scikit-learn para todos los parámetros. Únicamente **fijar la semilla aleatoria** para hacer repetible el experimento.\n",
        "\n",
        "Evaluar sobre el conjunto de **entrenamiento** y sobre el conjunto de **evaluación**, reportando:\n",
        "- Accuracy\n",
        "- Precision\n",
        "- Recall\n",
        "- F1\n",
        "- matriz de confusión"
      ]
    },
    {
      "cell_type": "code",
      "metadata": {
        "colab": {
          "base_uri": "https://localhost:8080/"
        },
        "id": "6lMXL5oATrop",
        "outputId": "507d123a-6317-4e06-8c26-7feefc686cbe"
      },
      "source": [
        "clf = SGDClassifier(random_state= 100)\n",
        "scaler = StandardScaler()\n",
        "X_train = scaler.fit_transform(X_train)\n",
        "X_test = scaler.transform(X_test)\n",
        "clf.fit(X_train, y_train)"
      ],
      "execution_count": null,
      "outputs": [
        {
          "output_type": "execute_result",
          "data": {
            "text/plain": [
              "SGDClassifier(alpha=0.0001, average=False, class_weight=None,\n",
              "              early_stopping=False, epsilon=0.1, eta0=0.0, fit_intercept=True,\n",
              "              l1_ratio=0.15, learning_rate='optimal', loss='hinge',\n",
              "              max_iter=1000, n_iter_no_change=5, n_jobs=None, penalty='l2',\n",
              "              power_t=0.5, random_state=100, shuffle=True, tol=0.001,\n",
              "              validation_fraction=0.1, verbose=0, warm_start=False)"
            ]
          },
          "metadata": {
            "tags": []
          },
          "execution_count": 4
        }
      ]
    },
    {
      "cell_type": "code",
      "metadata": {
        "colab": {
          "base_uri": "https://localhost:8080/",
          "height": 458
        },
        "id": "-FIWIAReY860",
        "outputId": "70a9f9b8-3cef-4261-a6a2-0f4bd4ed9358"
      },
      "source": [
        "y_pred_train = clf.predict(X_train)\n",
        "sns.heatmap(confusion_matrix(y_train, y_pred_train), annot= True)\n",
        "print('Resultados para conjunto de train \\n')\n",
        "print(classification_report(y_train, y_pred_train))"
      ],
      "execution_count": null,
      "outputs": [
        {
          "output_type": "stream",
          "text": [
            "Resultados para conjunto de train \n",
            "\n",
            "              precision    recall  f1-score   support\n",
            "\n",
            "           0       0.87      0.98      0.93      1232\n",
            "           1       0.80      0.30      0.43       251\n",
            "\n",
            "    accuracy                           0.87      1483\n",
            "   macro avg       0.84      0.64      0.68      1483\n",
            "weighted avg       0.86      0.87      0.84      1483\n",
            "\n"
          ],
          "name": "stdout"
        },
        {
          "output_type": "display_data",
          "data": {
            "image/png": "[encoded data removed]",
            "text/plain": [
              "<Figure size 432x288 with 2 Axes>"
            ]
          },
          "metadata": {
            "tags": [],
            "needs_background": "light"
          }
        }
      ]
    },
    {
      "cell_type": "code",
      "metadata": {
        "colab": {
          "base_uri": "https://localhost:8080/",
          "height": 456
        },
        "id": "4PaEhIqzYl_p",
        "outputId": "f8c9887f-a2eb-4120-84b2-95f6f97c1cd0"
      },
      "source": [
        "y_pred = clf.predict(X_test)\n",
        "sns.heatmap(confusion_matrix(y_test, y_pred), annot= True)\n",
        "print('Resultados para conjunto de test \\n')\n",
        "print(classification_report(y_test, y_pred))"
      ],
      "execution_count": null,
      "outputs": [
        {
          "output_type": "stream",
          "text": [
            "Resultados para conjunto de test \n",
            "\n",
            "              precision    recall  f1-score   support\n",
            "\n",
            "           0       0.88      0.99      0.93       313\n",
            "           1       0.85      0.29      0.44        58\n",
            "\n",
            "    accuracy                           0.88       371\n",
            "   macro avg       0.87      0.64      0.68       371\n",
            "weighted avg       0.88      0.88      0.86       371\n",
            "\n"
          ],
          "name": "stdout"
        },
        {
          "output_type": "display_data",
          "data": {
            "image/png": "[encoded data removed]",
            "text/plain": [
              "<Figure size 432x288 with 2 Axes>"
            ]
          },
          "metadata": {
            "tags": [],
            "needs_background": "light"
          }
        }
      ]
    },
    {
      "cell_type": "markdown",
      "metadata": {
        "id": "ldGLWIC7I_RX"
      },
      "source": [
        "### Ejercicio 2.2: Ajuste de Hiperparámetros\n",
        "\n",
        "Seleccionar valores para los hiperparámetros principales del SGDClassifier. Como mínimo, probar diferentes funciones de loss, tasas de entrenamiento y tasas de regularización.\n",
        "\n",
        "Para ello, usar grid-search y 5-fold cross-validation sobre el conjunto de entrenamiento para explorar muchas combinaciones posibles de valores.\n",
        "\n",
        "Reportar accuracy promedio y varianza para todas las configuraciones.\n",
        "\n",
        "Para la mejor configuración encontrada, evaluar sobre el conjunto de **entrenamiento** y sobre el conjunto de **evaluación**, reportando:\n",
        "- Accuracy\n",
        "- Precision\n",
        "- Recall\n",
        "- F1\n",
        "- matriz de confusión\n",
        "\n",
        "Documentación:\n",
        "- https://scikit-learn.org/stable/modules/grid_search.html\n",
        "- https://scikit-learn.org/stable/modules/generated/sklearn.model_selection.GridSearchCV.html"
      ]
    },
    {
      "cell_type": "code",
      "metadata": {
        "colab": {
          "base_uri": "https://localhost:8080/",
          "height": 896
        },
        "id": "yGvULIUmaX-1",
        "outputId": "eccf923c-c4da-4b42-b23a-0f6a19920993"
      },
      "source": [
        "param_grid = {\n",
        "    'loss': ['hinge', 'log', 'perceptron'],\n",
        "    'alpha': [0.001, 0.0001, 0.00001],\n",
        "    'penalty': ['elasticnet'],\n",
        "    'l1_ratio': [0.2, 0.5, 0.75]\n",
        "}\n",
        "\n",
        "cv = GridSearchCV(clf, param_grid, scoring='accuracy', cv=5)\n",
        "cv.fit(X_train, y_train)\n",
        "\n",
        "results = cv.cv_results_\n",
        "df = pd.DataFrame(results)\n",
        "\n",
        "df[['param_loss', 'param_alpha', 'param_penalty', 'param_l1_ratio', 'mean_test_score', 'std_test_score', 'rank_test_score']].sort_values('rank_test_score')"
      ],
      "execution_count": null,
      "outputs": [
        {
          "output_type": "execute_result",
          "data": {
            "text/html": [
              "<div>\n",
              "<style scoped>\n",
              "    .dataframe tbody tr th:only-of-type {\n",
              "        vertical-align: middle;\n",
              "    }\n",
              "\n",
              "    .dataframe tbody tr th {\n",
              "        vertical-align: top;\n",
              "    }\n",
              "\n",
              "    .dataframe thead th {\n",
              "        text-align: right;\n",
              "    }\n",
              "</style>\n",
              "<table border=\"1\" class=\"dataframe\">\n",
              "  <thead>\n",
              "    <tr style=\"text-align: right;\">\n",
              "      <th></th>\n",
              "      <th>param_loss</th>\n",
              "      <th>param_alpha</th>\n",
              "      <th>param_penalty</th>\n",
              "      <th>param_l1_ratio</th>\n",
              "      <th>mean_test_score</th>\n",
              "      <th>std_test_score</th>\n",
              "      <th>rank_test_score</th>\n",
              "    </tr>\n",
              "  </thead>\n",
              "  <tbody>\n",
              "    <tr>\n",
              "      <th>3</th>\n",
              "      <td>hinge</td>\n",
              "      <td>0.001</td>\n",
              "      <td>elasticnet</td>\n",
              "      <td>0.5</td>\n",
              "      <td>0.869178</td>\n",
              "      <td>0.005933</td>\n",
              "      <td>1</td>\n",
              "    </tr>\n",
              "    <tr>\n",
              "      <th>0</th>\n",
              "      <td>hinge</td>\n",
              "      <td>0.001</td>\n",
              "      <td>elasticnet</td>\n",
              "      <td>0.2</td>\n",
              "      <td>0.867829</td>\n",
              "      <td>0.008460</td>\n",
              "      <td>2</td>\n",
              "    </tr>\n",
              "    <tr>\n",
              "      <th>6</th>\n",
              "      <td>hinge</td>\n",
              "      <td>0.001</td>\n",
              "      <td>elasticnet</td>\n",
              "      <td>0.75</td>\n",
              "      <td>0.867156</td>\n",
              "      <td>0.003635</td>\n",
              "      <td>3</td>\n",
              "    </tr>\n",
              "    <tr>\n",
              "      <th>1</th>\n",
              "      <td>log</td>\n",
              "      <td>0.001</td>\n",
              "      <td>elasticnet</td>\n",
              "      <td>0.2</td>\n",
              "      <td>0.865149</td>\n",
              "      <td>0.016159</td>\n",
              "      <td>4</td>\n",
              "    </tr>\n",
              "    <tr>\n",
              "      <th>7</th>\n",
              "      <td>log</td>\n",
              "      <td>0.001</td>\n",
              "      <td>elasticnet</td>\n",
              "      <td>0.75</td>\n",
              "      <td>0.865149</td>\n",
              "      <td>0.014678</td>\n",
              "      <td>4</td>\n",
              "    </tr>\n",
              "    <tr>\n",
              "      <th>4</th>\n",
              "      <td>log</td>\n",
              "      <td>0.001</td>\n",
              "      <td>elasticnet</td>\n",
              "      <td>0.5</td>\n",
              "      <td>0.863798</td>\n",
              "      <td>0.012634</td>\n",
              "      <td>6</td>\n",
              "    </tr>\n",
              "    <tr>\n",
              "      <th>12</th>\n",
              "      <td>hinge</td>\n",
              "      <td>0.0001</td>\n",
              "      <td>elasticnet</td>\n",
              "      <td>0.5</td>\n",
              "      <td>0.855016</td>\n",
              "      <td>0.010325</td>\n",
              "      <td>7</td>\n",
              "    </tr>\n",
              "    <tr>\n",
              "      <th>9</th>\n",
              "      <td>hinge</td>\n",
              "      <td>0.0001</td>\n",
              "      <td>elasticnet</td>\n",
              "      <td>0.2</td>\n",
              "      <td>0.852321</td>\n",
              "      <td>0.010835</td>\n",
              "      <td>8</td>\n",
              "    </tr>\n",
              "    <tr>\n",
              "      <th>10</th>\n",
              "      <td>log</td>\n",
              "      <td>0.0001</td>\n",
              "      <td>elasticnet</td>\n",
              "      <td>0.2</td>\n",
              "      <td>0.848988</td>\n",
              "      <td>0.022089</td>\n",
              "      <td>9</td>\n",
              "    </tr>\n",
              "    <tr>\n",
              "      <th>16</th>\n",
              "      <td>log</td>\n",
              "      <td>0.0001</td>\n",
              "      <td>elasticnet</td>\n",
              "      <td>0.75</td>\n",
              "      <td>0.844936</td>\n",
              "      <td>0.021565</td>\n",
              "      <td>10</td>\n",
              "    </tr>\n",
              "    <tr>\n",
              "      <th>13</th>\n",
              "      <td>log</td>\n",
              "      <td>0.0001</td>\n",
              "      <td>elasticnet</td>\n",
              "      <td>0.5</td>\n",
              "      <td>0.843571</td>\n",
              "      <td>0.007947</td>\n",
              "      <td>11</td>\n",
              "    </tr>\n",
              "    <tr>\n",
              "      <th>25</th>\n",
              "      <td>log</td>\n",
              "      <td>1e-05</td>\n",
              "      <td>elasticnet</td>\n",
              "      <td>0.75</td>\n",
              "      <td>0.830692</td>\n",
              "      <td>0.055671</td>\n",
              "      <td>12</td>\n",
              "    </tr>\n",
              "    <tr>\n",
              "      <th>24</th>\n",
              "      <td>hinge</td>\n",
              "      <td>1e-05</td>\n",
              "      <td>elasticnet</td>\n",
              "      <td>0.75</td>\n",
              "      <td>0.828046</td>\n",
              "      <td>0.018116</td>\n",
              "      <td>13</td>\n",
              "    </tr>\n",
              "    <tr>\n",
              "      <th>26</th>\n",
              "      <td>perceptron</td>\n",
              "      <td>1e-05</td>\n",
              "      <td>elasticnet</td>\n",
              "      <td>0.75</td>\n",
              "      <td>0.816594</td>\n",
              "      <td>0.012255</td>\n",
              "      <td>14</td>\n",
              "    </tr>\n",
              "    <tr>\n",
              "      <th>15</th>\n",
              "      <td>hinge</td>\n",
              "      <td>0.0001</td>\n",
              "      <td>elasticnet</td>\n",
              "      <td>0.75</td>\n",
              "      <td>0.812538</td>\n",
              "      <td>0.025260</td>\n",
              "      <td>15</td>\n",
              "    </tr>\n",
              "    <tr>\n",
              "      <th>2</th>\n",
              "      <td>perceptron</td>\n",
              "      <td>0.001</td>\n",
              "      <td>elasticnet</td>\n",
              "      <td>0.2</td>\n",
              "      <td>0.811250</td>\n",
              "      <td>0.038648</td>\n",
              "      <td>16</td>\n",
              "    </tr>\n",
              "    <tr>\n",
              "      <th>18</th>\n",
              "      <td>hinge</td>\n",
              "      <td>1e-05</td>\n",
              "      <td>elasticnet</td>\n",
              "      <td>0.2</td>\n",
              "      <td>0.808524</td>\n",
              "      <td>0.022962</td>\n",
              "      <td>17</td>\n",
              "    </tr>\n",
              "    <tr>\n",
              "      <th>23</th>\n",
              "      <td>perceptron</td>\n",
              "      <td>1e-05</td>\n",
              "      <td>elasticnet</td>\n",
              "      <td>0.5</td>\n",
              "      <td>0.808454</td>\n",
              "      <td>0.052041</td>\n",
              "      <td>18</td>\n",
              "    </tr>\n",
              "    <tr>\n",
              "      <th>22</th>\n",
              "      <td>log</td>\n",
              "      <td>1e-05</td>\n",
              "      <td>elasticnet</td>\n",
              "      <td>0.5</td>\n",
              "      <td>0.803080</td>\n",
              "      <td>0.063912</td>\n",
              "      <td>19</td>\n",
              "    </tr>\n",
              "    <tr>\n",
              "      <th>17</th>\n",
              "      <td>perceptron</td>\n",
              "      <td>0.0001</td>\n",
              "      <td>elasticnet</td>\n",
              "      <td>0.75</td>\n",
              "      <td>0.792292</td>\n",
              "      <td>0.048887</td>\n",
              "      <td>20</td>\n",
              "    </tr>\n",
              "    <tr>\n",
              "      <th>14</th>\n",
              "      <td>perceptron</td>\n",
              "      <td>0.0001</td>\n",
              "      <td>elasticnet</td>\n",
              "      <td>0.5</td>\n",
              "      <td>0.790318</td>\n",
              "      <td>0.033223</td>\n",
              "      <td>21</td>\n",
              "    </tr>\n",
              "    <tr>\n",
              "      <th>11</th>\n",
              "      <td>perceptron</td>\n",
              "      <td>0.0001</td>\n",
              "      <td>elasticnet</td>\n",
              "      <td>0.2</td>\n",
              "      <td>0.786937</td>\n",
              "      <td>0.024903</td>\n",
              "      <td>22</td>\n",
              "    </tr>\n",
              "    <tr>\n",
              "      <th>19</th>\n",
              "      <td>log</td>\n",
              "      <td>1e-05</td>\n",
              "      <td>elasticnet</td>\n",
              "      <td>0.2</td>\n",
              "      <td>0.779523</td>\n",
              "      <td>0.069292</td>\n",
              "      <td>23</td>\n",
              "    </tr>\n",
              "    <tr>\n",
              "      <th>20</th>\n",
              "      <td>perceptron</td>\n",
              "      <td>1e-05</td>\n",
              "      <td>elasticnet</td>\n",
              "      <td>0.2</td>\n",
              "      <td>0.778758</td>\n",
              "      <td>0.049477</td>\n",
              "      <td>24</td>\n",
              "    </tr>\n",
              "    <tr>\n",
              "      <th>21</th>\n",
              "      <td>hinge</td>\n",
              "      <td>1e-05</td>\n",
              "      <td>elasticnet</td>\n",
              "      <td>0.5</td>\n",
              "      <td>0.768794</td>\n",
              "      <td>0.083728</td>\n",
              "      <td>25</td>\n",
              "    </tr>\n",
              "    <tr>\n",
              "      <th>5</th>\n",
              "      <td>perceptron</td>\n",
              "      <td>0.001</td>\n",
              "      <td>elasticnet</td>\n",
              "      <td>0.5</td>\n",
              "      <td>0.767447</td>\n",
              "      <td>0.092203</td>\n",
              "      <td>26</td>\n",
              "    </tr>\n",
              "    <tr>\n",
              "      <th>8</th>\n",
              "      <td>perceptron</td>\n",
              "      <td>0.001</td>\n",
              "      <td>elasticnet</td>\n",
              "      <td>0.75</td>\n",
              "      <td>0.741655</td>\n",
              "      <td>0.114447</td>\n",
              "      <td>27</td>\n",
              "    </tr>\n",
              "  </tbody>\n",
              "</table>\n",
              "</div>"
            ],
            "text/plain": [
              "    param_loss param_alpha  ... std_test_score rank_test_score\n",
              "3        hinge       0.001  ...       0.005933               1\n",
              "0        hinge       0.001  ...       0.008460               2\n",
              "6        hinge       0.001  ...       0.003635               3\n",
              "1          log       0.001  ...       0.016159               4\n",
              "7          log       0.001  ...       0.014678               4\n",
              "4          log       0.001  ...       0.012634               6\n",
              "12       hinge      0.0001  ...       0.010325               7\n",
              "9        hinge      0.0001  ...       0.010835               8\n",
              "10         log      0.0001  ...       0.022089               9\n",
              "16         log      0.0001  ...       0.021565              10\n",
              "13         log      0.0001  ...       0.007947              11\n",
              "25         log       1e-05  ...       0.055671              12\n",
              "24       hinge       1e-05  ...       0.018116              13\n",
              "26  perceptron       1e-05  ...       0.012255              14\n",
              "15       hinge      0.0001  ...       0.025260              15\n",
              "2   perceptron       0.001  ...       0.038648              16\n",
              "18       hinge       1e-05  ...       0.022962              17\n",
              "23  perceptron       1e-05  ...       0.052041              18\n",
              "22         log       1e-05  ...       0.063912              19\n",
              "17  perceptron      0.0001  ...       0.048887              20\n",
              "14  perceptron      0.0001  ...       0.033223              21\n",
              "11  perceptron      0.0001  ...       0.024903              22\n",
              "19         log       1e-05  ...       0.069292              23\n",
              "20  perceptron       1e-05  ...       0.049477              24\n",
              "21       hinge       1e-05  ...       0.083728              25\n",
              "5   perceptron       0.001  ...       0.092203              26\n",
              "8   perceptron       0.001  ...       0.114447              27\n",
              "\n",
              "[27 rows x 7 columns]"
            ]
          },
          "metadata": {
            "tags": []
          },
          "execution_count": 7
        }
      ]
    },
    {
      "cell_type": "code",
      "metadata": {
        "colab": {
          "base_uri": "https://localhost:8080/"
        },
        "id": "3mreUT_KiGl8",
        "outputId": "42c3d74f-43cf-4e6d-c937-18dd0ffdd002"
      },
      "source": [
        "cv.best_params_"
      ],
      "execution_count": null,
      "outputs": [
        {
          "output_type": "execute_result",
          "data": {
            "text/plain": [
              "{'alpha': 0.001, 'l1_ratio': 0.5, 'loss': 'hinge', 'penalty': 'elasticnet'}"
            ]
          },
          "metadata": {
            "tags": []
          },
          "execution_count": 8
        }
      ]
    },
    {
      "cell_type": "code",
      "metadata": {
        "colab": {
          "base_uri": "https://localhost:8080/"
        },
        "id": "1ovhsNd80Sn5",
        "outputId": "f8d11974-7bda-418c-90fe-65fc3e139fab"
      },
      "source": [
        "cv.best_estimator_"
      ],
      "execution_count": null,
      "outputs": [
        {
          "output_type": "execute_result",
          "data": {
            "text/plain": [
              "SGDClassifier(alpha=0.001, average=False, class_weight=None,\n",
              "              early_stopping=False, epsilon=0.1, eta0=0.0, fit_intercept=True,\n",
              "              l1_ratio=0.5, learning_rate='optimal', loss='hinge',\n",
              "              max_iter=1000, n_iter_no_change=5, n_jobs=None,\n",
              "              penalty='elasticnet', power_t=0.5, random_state=100, shuffle=True,\n",
              "              tol=0.001, validation_fraction=0.1, verbose=0, warm_start=False)"
            ]
          },
          "metadata": {
            "tags": []
          },
          "execution_count": 9
        }
      ]
    },
    {
      "cell_type": "code",
      "metadata": {
        "colab": {
          "base_uri": "https://localhost:8080/",
          "height": 456
        },
        "id": "RnPe90ZHi-Hz",
        "outputId": "0757269d-a9f5-4fef-ff93-4e981c149748"
      },
      "source": [
        "y_pred_train = cv.predict(X_train)\n",
        "print('Resultados para el mejor modelo conjunto train \\n')\n",
        "sns.heatmap(confusion_matrix(y_train, y_pred_train), annot=True, fmt='g')\n",
        "print(classification_report(y_train, y_pred_train))"
      ],
      "execution_count": null,
      "outputs": [
        {
          "output_type": "stream",
          "text": [
            "Resultados para el mejor modelo conjunto train \n",
            "\n",
            "              precision    recall  f1-score   support\n",
            "\n",
            "           0       0.86      0.99      0.92      1232\n",
            "           1       0.89      0.24      0.37       251\n",
            "\n",
            "    accuracy                           0.87      1483\n",
            "   macro avg       0.88      0.61      0.65      1483\n",
            "weighted avg       0.87      0.87      0.83      1483\n",
            "\n"
          ],
          "name": "stdout"
        },
        {
          "output_type": "display_data",
          "data": {
            "image/png": "[encoded data removed]",
            "text/plain": [
              "<Figure size 432x288 with 2 Axes>"
            ]
          },
          "metadata": {
            "tags": [],
            "needs_background": "light"
          }
        }
      ]
    },
    {
      "cell_type": "code",
      "metadata": {
        "colab": {
          "base_uri": "https://localhost:8080/",
          "height": 456
        },
        "id": "ggJltfl7i-H4",
        "outputId": "dd517914-02b6-4207-ac84-97ace50604c1"
      },
      "source": [
        "y_pred = cv.predict(X_test)\n",
        "print('Resultados para el mejor modelo conjunto test \\n')\n",
        "sns.heatmap(confusion_matrix(y_test, y_pred), annot=True, fmt='g')\n",
        "print(classification_report(y_test, y_pred))"
      ],
      "execution_count": null,
      "outputs": [
        {
          "output_type": "stream",
          "text": [
            "Resultados para el mejor modelo conjunto test \n",
            "\n",
            "              precision    recall  f1-score   support\n",
            "\n",
            "           0       0.88      0.99      0.93       313\n",
            "           1       0.85      0.29      0.44        58\n",
            "\n",
            "    accuracy                           0.88       371\n",
            "   macro avg       0.87      0.64      0.68       371\n",
            "weighted avg       0.88      0.88      0.86       371\n",
            "\n"
          ],
          "name": "stdout"
        },
        {
          "output_type": "display_data",
          "data": {
            "image/png": "[encoded data removed]",
            "text/plain": [
              "<Figure size 432x288 with 2 Axes>"
            ]
          },
          "metadata": {
            "tags": [],
            "needs_background": "light"
          }
        }
      ]
    },
    {
      "cell_type": "markdown",
      "metadata": {
        "id": "SMgB7tvNI_RZ"
      },
      "source": [
        "## Ejercicio 3: Árboles de Decisión\n",
        "\n",
        "En este ejercicio se entrenarán árboles de decisión para predecir la variable objetivo.\n",
        "\n",
        "Para ello, deberán utilizar la clase DecisionTreeClassifier de scikit-learn.\n",
        "\n",
        "Documentación:\n",
        "- https://scikit-learn.org/stable/modules/tree.html\n",
        "  - https://scikit-learn.org/stable/modules/tree.html#tips-on-practical-use\n",
        "- https://scikit-learn.org/stable/modules/generated/sklearn.tree.DecisionTreeClassifier.html\n",
        "- https://scikit-learn.org/stable/auto_examples/tree/plot_unveil_tree_structure.html"
      ]
    },
    {
      "cell_type": "markdown",
      "metadata": {
        "id": "dv_J7Ii9I_RZ"
      },
      "source": [
        "### Ejercicio 3.1: DecisionTreeClassifier con hiperparámetros por defecto\n",
        "\n",
        "Entrenar y evaluar el clasificador DecisionTreeClassifier usando los valores por omisión de scikit-learn para todos los parámetros. Únicamente **fijar la semilla aleatoria** para hacer repetible el experimento.\n",
        "\n",
        "Evaluar sobre el conjunto de **entrenamiento** y sobre el conjunto de **evaluación**, reportando:\n",
        "- Accuracy\n",
        "- Precision\n",
        "- Recall\n",
        "- F1\n",
        "- matriz de confusión\n"
      ]
    },
    {
      "cell_type": "code",
      "metadata": {
        "colab": {
          "base_uri": "https://localhost:8080/"
        },
        "id": "U8QhgI4wnYNu",
        "outputId": "eced3a48-b1ec-48fd-9a61-72ce62c07fe1"
      },
      "source": [
        "clf_tree = DecisionTreeClassifier(random_state = 100)\n",
        "clf_tree.fit(X_train, y_train)"
      ],
      "execution_count": null,
      "outputs": [
        {
          "output_type": "execute_result",
          "data": {
            "text/plain": [
              "DecisionTreeClassifier(ccp_alpha=0.0, class_weight=None, criterion='gini',\n",
              "                       max_depth=None, max_features=None, max_leaf_nodes=None,\n",
              "                       min_impurity_decrease=0.0, min_impurity_split=None,\n",
              "                       min_samples_leaf=1, min_samples_split=2,\n",
              "                       min_weight_fraction_leaf=0.0, presort='deprecated',\n",
              "                       random_state=100, splitter='best')"
            ]
          },
          "metadata": {
            "tags": []
          },
          "execution_count": 12
        }
      ]
    },
    {
      "cell_type": "code",
      "metadata": {
        "colab": {
          "base_uri": "https://localhost:8080/",
          "height": 421
        },
        "id": "b1DvDyXVn9Iz",
        "outputId": "559b4cb0-553f-4740-ecf8-9e6c38e8f167"
      },
      "source": [
        "y_pred_train = clf_tree.predict(X_train)\n",
        "sns.heatmap(confusion_matrix(y_train, y_pred_train), annot=True, fmt='g')\n",
        "print(classification_report(y_train, y_pred_train))"
      ],
      "execution_count": null,
      "outputs": [
        {
          "output_type": "stream",
          "text": [
            "              precision    recall  f1-score   support\n",
            "\n",
            "           0       1.00      1.00      1.00      1232\n",
            "           1       1.00      1.00      1.00       251\n",
            "\n",
            "    accuracy                           1.00      1483\n",
            "   macro avg       1.00      1.00      1.00      1483\n",
            "weighted avg       1.00      1.00      1.00      1483\n",
            "\n"
          ],
          "name": "stdout"
        },
        {
          "output_type": "display_data",
          "data": {
            "image/png": "[encoded data removed]",
            "text/plain": [
              "<Figure size 432x288 with 2 Axes>"
            ]
          },
          "metadata": {
            "tags": [],
            "needs_background": "light"
          }
        }
      ]
    },
    {
      "cell_type": "code",
      "metadata": {
        "colab": {
          "base_uri": "https://localhost:8080/",
          "height": 248
        },
        "id": "l3PI8LywMEl8",
        "outputId": "5f83a894-b7a9-450e-bff6-333321d14df8"
      },
      "source": [
        "from sklearn import tree\n",
        "tree.plot_tree(clf_tree);"
      ],
      "execution_count": null,
      "outputs": [
        {
          "output_type": "display_data",
          "data": {
            "image/png": "[encoded data removed]",
            "text/plain": [
              "<Figure size 432x288 with 1 Axes>"
            ]
          },
          "metadata": {
            "tags": [],
            "needs_background": "light"
          }
        }
      ]
    },
    {
      "cell_type": "code",
      "metadata": {
        "colab": {
          "base_uri": "https://localhost:8080/",
          "height": 421
        },
        "id": "qfc415Fgn9JW",
        "outputId": "93f9545e-3699-4040-fe12-aa6fbaabe654"
      },
      "source": [
        "y_pred = clf_tree.predict(X_test)\n",
        "sns.heatmap(confusion_matrix(y_test, y_pred), annot= True, fmt='g')\n",
        "print(classification_report(y_test, y_pred))"
      ],
      "execution_count": null,
      "outputs": [
        {
          "output_type": "stream",
          "text": [
            "              precision    recall  f1-score   support\n",
            "\n",
            "           0       0.94      0.95      0.94       313\n",
            "           1       0.72      0.66      0.68        58\n",
            "\n",
            "    accuracy                           0.91       371\n",
            "   macro avg       0.83      0.80      0.81       371\n",
            "weighted avg       0.90      0.91      0.90       371\n",
            "\n"
          ],
          "name": "stdout"
        },
        {
          "output_type": "display_data",
          "data": {
            "image/png": "[encoded data removed]",
            "text/plain": [
              "<Figure size 432x288 with 2 Axes>"
            ]
          },
          "metadata": {
            "tags": [],
            "needs_background": "light"
          }
        }
      ]
    },
    {
      "cell_type": "markdown",
      "metadata": {
        "id": "3sXa0MDZoNJn"
      },
      "source": [
        "### **Observaciones**\n",
        "\n",
        "1. Para probar:\n",
        "\n",
        "Consider performing dimensionality reduction (PCA, ICA, or Feature selection) beforehand to give your tree a better chance of finding features that are discriminative.\n",
        "\n",
        "2. Ver por qué la de entrenamiento dio sospechosamente perfecta (overfitting?). Estaría bueno imprimir el árbol para ver cómo se distribuyeron. "
      ]
    },
    {
      "cell_type": "markdown",
      "metadata": {
        "id": "zs5RCzwgI_Ra"
      },
      "source": [
        "### Ejercicio 3.2: Ajuste de Hiperparámetros\n",
        "\n",
        "Seleccionar valores para los hiperparámetros principales del DecisionTreeClassifier. Como mínimo, probar diferentes criterios de partición (criterion), profundidad máxima del árbol (max_depth), y cantidad mínima de samples por hoja (min_samples_leaf).\n",
        "\n",
        "Para ello, usar grid-search y 5-fold cross-validation sobre el conjunto de entrenamiento para explorar muchas combinaciones posibles de valores.\n",
        "\n",
        "Reportar accuracy promedio y varianza para todas las configuraciones.\n",
        "\n",
        "Para la mejor configuración encontrada, evaluar sobre el conjunto de **entrenamiento** y sobre el conjunto de **evaluación**, reportando:\n",
        "- Accuracy\n",
        "- Precision\n",
        "- Recall\n",
        "- F1\n",
        "- matriz de confusión\n",
        "\n",
        "\n",
        "Documentación:\n",
        "- https://scikit-learn.org/stable/modules/grid_search.html\n",
        "- https://scikit-learn.org/stable/modules/generated/sklearn.model_selection.GridSearchCV.html"
      ]
    },
    {
      "cell_type": "code",
      "metadata": {
        "colab": {
          "base_uri": "https://localhost:8080/",
          "height": 1000
        },
        "id": "Q26etj4ZPCRN",
        "outputId": "0bc4ebac-2378-4e1f-cb41-3240e1a0cb47"
      },
      "source": [
        "param_grid = {\n",
        "    'criterion': ['gini', 'entropy'],\n",
        "    'max_depth': [5,10,15,20,22],\n",
        "    'min_samples_leaf': [1, 5, 10, 15],\n",
        "    }\n",
        "\n",
        "cv_dt = GridSearchCV(DecisionTreeClassifier(random_state=100), param_grid, scoring='accuracy', cv=5)\n",
        "cv_dt.fit(X_train, y_train)\n",
        "\n",
        "results = cv_dt.cv_results_\n",
        "df = pd.DataFrame(results)\n",
        "df[['param_criterion', 'param_max_depth', 'param_min_samples_leaf', 'mean_test_score', 'std_test_score', 'rank_test_score']].sort_values('rank_test_score')"
      ],
      "execution_count": null,
      "outputs": [
        {
          "output_type": "execute_result",
          "data": {
            "text/html": [
              "<div>\n",
              "<style scoped>\n",
              "    .dataframe tbody tr th:only-of-type {\n",
              "        vertical-align: middle;\n",
              "    }\n",
              "\n",
              "    .dataframe tbody tr th {\n",
              "        vertical-align: top;\n",
              "    }\n",
              "\n",
              "    .dataframe thead th {\n",
              "        text-align: right;\n",
              "    }\n",
              "</style>\n",
              "<table border=\"1\" class=\"dataframe\">\n",
              "  <thead>\n",
              "    <tr style=\"text-align: right;\">\n",
              "      <th></th>\n",
              "      <th>param_criterion</th>\n",
              "      <th>param_max_depth</th>\n",
              "      <th>param_min_samples_leaf</th>\n",
              "      <th>mean_test_score</th>\n",
              "      <th>std_test_score</th>\n",
              "      <th>rank_test_score</th>\n",
              "    </tr>\n",
              "  </thead>\n",
              "  <tbody>\n",
              "    <tr>\n",
              "      <th>22</th>\n",
              "      <td>entropy</td>\n",
              "      <td>5</td>\n",
              "      <td>10</td>\n",
              "      <td>0.880647</td>\n",
              "      <td>0.003456</td>\n",
              "      <td>1</td>\n",
              "    </tr>\n",
              "    <tr>\n",
              "      <th>5</th>\n",
              "      <td>gini</td>\n",
              "      <td>10</td>\n",
              "      <td>5</td>\n",
              "      <td>0.879991</td>\n",
              "      <td>0.019750</td>\n",
              "      <td>2</td>\n",
              "    </tr>\n",
              "    <tr>\n",
              "      <th>4</th>\n",
              "      <td>gini</td>\n",
              "      <td>10</td>\n",
              "      <td>1</td>\n",
              "      <td>0.879991</td>\n",
              "      <td>0.023914</td>\n",
              "      <td>3</td>\n",
              "    </tr>\n",
              "    <tr>\n",
              "      <th>2</th>\n",
              "      <td>gini</td>\n",
              "      <td>5</td>\n",
              "      <td>10</td>\n",
              "      <td>0.879302</td>\n",
              "      <td>0.005732</td>\n",
              "      <td>4</td>\n",
              "    </tr>\n",
              "    <tr>\n",
              "      <th>10</th>\n",
              "      <td>gini</td>\n",
              "      <td>15</td>\n",
              "      <td>10</td>\n",
              "      <td>0.877955</td>\n",
              "      <td>0.014463</td>\n",
              "      <td>5</td>\n",
              "    </tr>\n",
              "    <tr>\n",
              "      <th>14</th>\n",
              "      <td>gini</td>\n",
              "      <td>20</td>\n",
              "      <td>10</td>\n",
              "      <td>0.877955</td>\n",
              "      <td>0.014463</td>\n",
              "      <td>5</td>\n",
              "    </tr>\n",
              "    <tr>\n",
              "      <th>18</th>\n",
              "      <td>gini</td>\n",
              "      <td>22</td>\n",
              "      <td>10</td>\n",
              "      <td>0.877955</td>\n",
              "      <td>0.014463</td>\n",
              "      <td>5</td>\n",
              "    </tr>\n",
              "    <tr>\n",
              "      <th>3</th>\n",
              "      <td>gini</td>\n",
              "      <td>5</td>\n",
              "      <td>15</td>\n",
              "      <td>0.877289</td>\n",
              "      <td>0.011670</td>\n",
              "      <td>8</td>\n",
              "    </tr>\n",
              "    <tr>\n",
              "      <th>6</th>\n",
              "      <td>gini</td>\n",
              "      <td>10</td>\n",
              "      <td>10</td>\n",
              "      <td>0.877282</td>\n",
              "      <td>0.014953</td>\n",
              "      <td>9</td>\n",
              "    </tr>\n",
              "    <tr>\n",
              "      <th>20</th>\n",
              "      <td>entropy</td>\n",
              "      <td>5</td>\n",
              "      <td>1</td>\n",
              "      <td>0.875935</td>\n",
              "      <td>0.008521</td>\n",
              "      <td>10</td>\n",
              "    </tr>\n",
              "    <tr>\n",
              "      <th>24</th>\n",
              "      <td>entropy</td>\n",
              "      <td>10</td>\n",
              "      <td>1</td>\n",
              "      <td>0.875264</td>\n",
              "      <td>0.010528</td>\n",
              "      <td>11</td>\n",
              "    </tr>\n",
              "    <tr>\n",
              "      <th>0</th>\n",
              "      <td>gini</td>\n",
              "      <td>5</td>\n",
              "      <td>1</td>\n",
              "      <td>0.874586</td>\n",
              "      <td>0.013334</td>\n",
              "      <td>12</td>\n",
              "    </tr>\n",
              "    <tr>\n",
              "      <th>7</th>\n",
              "      <td>gini</td>\n",
              "      <td>10</td>\n",
              "      <td>15</td>\n",
              "      <td>0.873917</td>\n",
              "      <td>0.021104</td>\n",
              "      <td>13</td>\n",
              "    </tr>\n",
              "    <tr>\n",
              "      <th>1</th>\n",
              "      <td>gini</td>\n",
              "      <td>5</td>\n",
              "      <td>5</td>\n",
              "      <td>0.873910</td>\n",
              "      <td>0.013029</td>\n",
              "      <td>14</td>\n",
              "    </tr>\n",
              "    <tr>\n",
              "      <th>23</th>\n",
              "      <td>entropy</td>\n",
              "      <td>5</td>\n",
              "      <td>15</td>\n",
              "      <td>0.873903</td>\n",
              "      <td>0.010599</td>\n",
              "      <td>15</td>\n",
              "    </tr>\n",
              "    <tr>\n",
              "      <th>21</th>\n",
              "      <td>entropy</td>\n",
              "      <td>5</td>\n",
              "      <td>5</td>\n",
              "      <td>0.873239</td>\n",
              "      <td>0.009065</td>\n",
              "      <td>16</td>\n",
              "    </tr>\n",
              "    <tr>\n",
              "      <th>19</th>\n",
              "      <td>gini</td>\n",
              "      <td>22</td>\n",
              "      <td>15</td>\n",
              "      <td>0.871897</td>\n",
              "      <td>0.020030</td>\n",
              "      <td>17</td>\n",
              "    </tr>\n",
              "    <tr>\n",
              "      <th>15</th>\n",
              "      <td>gini</td>\n",
              "      <td>20</td>\n",
              "      <td>15</td>\n",
              "      <td>0.871897</td>\n",
              "      <td>0.020030</td>\n",
              "      <td>17</td>\n",
              "    </tr>\n",
              "    <tr>\n",
              "      <th>11</th>\n",
              "      <td>gini</td>\n",
              "      <td>15</td>\n",
              "      <td>15</td>\n",
              "      <td>0.871897</td>\n",
              "      <td>0.020030</td>\n",
              "      <td>17</td>\n",
              "    </tr>\n",
              "    <tr>\n",
              "      <th>9</th>\n",
              "      <td>gini</td>\n",
              "      <td>15</td>\n",
              "      <td>5</td>\n",
              "      <td>0.869877</td>\n",
              "      <td>0.022938</td>\n",
              "      <td>20</td>\n",
              "    </tr>\n",
              "    <tr>\n",
              "      <th>17</th>\n",
              "      <td>gini</td>\n",
              "      <td>22</td>\n",
              "      <td>5</td>\n",
              "      <td>0.869203</td>\n",
              "      <td>0.023404</td>\n",
              "      <td>21</td>\n",
              "    </tr>\n",
              "    <tr>\n",
              "      <th>13</th>\n",
              "      <td>gini</td>\n",
              "      <td>20</td>\n",
              "      <td>5</td>\n",
              "      <td>0.869203</td>\n",
              "      <td>0.023404</td>\n",
              "      <td>21</td>\n",
              "    </tr>\n",
              "    <tr>\n",
              "      <th>8</th>\n",
              "      <td>gini</td>\n",
              "      <td>15</td>\n",
              "      <td>1</td>\n",
              "      <td>0.865825</td>\n",
              "      <td>0.025019</td>\n",
              "      <td>23</td>\n",
              "    </tr>\n",
              "    <tr>\n",
              "      <th>26</th>\n",
              "      <td>entropy</td>\n",
              "      <td>10</td>\n",
              "      <td>10</td>\n",
              "      <td>0.865818</td>\n",
              "      <td>0.004797</td>\n",
              "      <td>24</td>\n",
              "    </tr>\n",
              "    <tr>\n",
              "      <th>28</th>\n",
              "      <td>entropy</td>\n",
              "      <td>15</td>\n",
              "      <td>1</td>\n",
              "      <td>0.865147</td>\n",
              "      <td>0.018383</td>\n",
              "      <td>25</td>\n",
              "    </tr>\n",
              "    <tr>\n",
              "      <th>32</th>\n",
              "      <td>entropy</td>\n",
              "      <td>20</td>\n",
              "      <td>1</td>\n",
              "      <td>0.865145</td>\n",
              "      <td>0.019361</td>\n",
              "      <td>26</td>\n",
              "    </tr>\n",
              "    <tr>\n",
              "      <th>36</th>\n",
              "      <td>entropy</td>\n",
              "      <td>22</td>\n",
              "      <td>1</td>\n",
              "      <td>0.865145</td>\n",
              "      <td>0.019361</td>\n",
              "      <td>26</td>\n",
              "    </tr>\n",
              "    <tr>\n",
              "      <th>27</th>\n",
              "      <td>entropy</td>\n",
              "      <td>10</td>\n",
              "      <td>15</td>\n",
              "      <td>0.864476</td>\n",
              "      <td>0.008976</td>\n",
              "      <td>28</td>\n",
              "    </tr>\n",
              "    <tr>\n",
              "      <th>31</th>\n",
              "      <td>entropy</td>\n",
              "      <td>15</td>\n",
              "      <td>15</td>\n",
              "      <td>0.864476</td>\n",
              "      <td>0.008976</td>\n",
              "      <td>28</td>\n",
              "    </tr>\n",
              "    <tr>\n",
              "      <th>35</th>\n",
              "      <td>entropy</td>\n",
              "      <td>20</td>\n",
              "      <td>15</td>\n",
              "      <td>0.864476</td>\n",
              "      <td>0.008976</td>\n",
              "      <td>28</td>\n",
              "    </tr>\n",
              "    <tr>\n",
              "      <th>39</th>\n",
              "      <td>entropy</td>\n",
              "      <td>22</td>\n",
              "      <td>15</td>\n",
              "      <td>0.864476</td>\n",
              "      <td>0.008976</td>\n",
              "      <td>28</td>\n",
              "    </tr>\n",
              "    <tr>\n",
              "      <th>38</th>\n",
              "      <td>entropy</td>\n",
              "      <td>22</td>\n",
              "      <td>10</td>\n",
              "      <td>0.860429</td>\n",
              "      <td>0.008776</td>\n",
              "      <td>32</td>\n",
              "    </tr>\n",
              "    <tr>\n",
              "      <th>30</th>\n",
              "      <td>entropy</td>\n",
              "      <td>15</td>\n",
              "      <td>10</td>\n",
              "      <td>0.860429</td>\n",
              "      <td>0.008776</td>\n",
              "      <td>32</td>\n",
              "    </tr>\n",
              "    <tr>\n",
              "      <th>34</th>\n",
              "      <td>entropy</td>\n",
              "      <td>20</td>\n",
              "      <td>10</td>\n",
              "      <td>0.860429</td>\n",
              "      <td>0.008776</td>\n",
              "      <td>32</td>\n",
              "    </tr>\n",
              "    <tr>\n",
              "      <th>12</th>\n",
              "      <td>gini</td>\n",
              "      <td>20</td>\n",
              "      <td>1</td>\n",
              "      <td>0.858418</td>\n",
              "      <td>0.028331</td>\n",
              "      <td>35</td>\n",
              "    </tr>\n",
              "    <tr>\n",
              "      <th>16</th>\n",
              "      <td>gini</td>\n",
              "      <td>22</td>\n",
              "      <td>1</td>\n",
              "      <td>0.857062</td>\n",
              "      <td>0.028343</td>\n",
              "      <td>36</td>\n",
              "    </tr>\n",
              "    <tr>\n",
              "      <th>25</th>\n",
              "      <td>entropy</td>\n",
              "      <td>10</td>\n",
              "      <td>5</td>\n",
              "      <td>0.852346</td>\n",
              "      <td>0.017335</td>\n",
              "      <td>37</td>\n",
              "    </tr>\n",
              "    <tr>\n",
              "      <th>29</th>\n",
              "      <td>entropy</td>\n",
              "      <td>15</td>\n",
              "      <td>5</td>\n",
              "      <td>0.846269</td>\n",
              "      <td>0.018797</td>\n",
              "      <td>38</td>\n",
              "    </tr>\n",
              "    <tr>\n",
              "      <th>33</th>\n",
              "      <td>entropy</td>\n",
              "      <td>20</td>\n",
              "      <td>5</td>\n",
              "      <td>0.846269</td>\n",
              "      <td>0.018797</td>\n",
              "      <td>38</td>\n",
              "    </tr>\n",
              "    <tr>\n",
              "      <th>37</th>\n",
              "      <td>entropy</td>\n",
              "      <td>22</td>\n",
              "      <td>5</td>\n",
              "      <td>0.846269</td>\n",
              "      <td>0.018797</td>\n",
              "      <td>38</td>\n",
              "    </tr>\n",
              "  </tbody>\n",
              "</table>\n",
              "</div>"
            ],
            "text/plain": [
              "   param_criterion param_max_depth  ... std_test_score  rank_test_score\n",
              "22         entropy               5  ...       0.003456                1\n",
              "5             gini              10  ...       0.019750                2\n",
              "4             gini              10  ...       0.023914                3\n",
              "2             gini               5  ...       0.005732                4\n",
              "10            gini              15  ...       0.014463                5\n",
              "14            gini              20  ...       0.014463                5\n",
              "18            gini              22  ...       0.014463                5\n",
              "3             gini               5  ...       0.011670                8\n",
              "6             gini              10  ...       0.014953                9\n",
              "20         entropy               5  ...       0.008521               10\n",
              "24         entropy              10  ...       0.010528               11\n",
              "0             gini               5  ...       0.013334               12\n",
              "7             gini              10  ...       0.021104               13\n",
              "1             gini               5  ...       0.013029               14\n",
              "23         entropy               5  ...       0.010599               15\n",
              "21         entropy               5  ...       0.009065               16\n",
              "19            gini              22  ...       0.020030               17\n",
              "15            gini              20  ...       0.020030               17\n",
              "11            gini              15  ...       0.020030               17\n",
              "9             gini              15  ...       0.022938               20\n",
              "17            gini              22  ...       0.023404               21\n",
              "13            gini              20  ...       0.023404               21\n",
              "8             gini              15  ...       0.025019               23\n",
              "26         entropy              10  ...       0.004797               24\n",
              "28         entropy              15  ...       0.018383               25\n",
              "32         entropy              20  ...       0.019361               26\n",
              "36         entropy              22  ...       0.019361               26\n",
              "27         entropy              10  ...       0.008976               28\n",
              "31         entropy              15  ...       0.008976               28\n",
              "35         entropy              20  ...       0.008976               28\n",
              "39         entropy              22  ...       0.008976               28\n",
              "38         entropy              22  ...       0.008776               32\n",
              "30         entropy              15  ...       0.008776               32\n",
              "34         entropy              20  ...       0.008776               32\n",
              "12            gini              20  ...       0.028331               35\n",
              "16            gini              22  ...       0.028343               36\n",
              "25         entropy              10  ...       0.017335               37\n",
              "29         entropy              15  ...       0.018797               38\n",
              "33         entropy              20  ...       0.018797               38\n",
              "37         entropy              22  ...       0.018797               38\n",
              "\n",
              "[40 rows x 6 columns]"
            ]
          },
          "metadata": {
            "tags": []
          },
          "execution_count": 16
        }
      ]
    },
    {
      "cell_type": "code",
      "metadata": {
        "colab": {
          "base_uri": "https://localhost:8080/"
        },
        "id": "CxdlqtAqCQUT",
        "outputId": "c80f5986-af85-40e9-869a-f1f727d15989"
      },
      "source": [
        "cv_dt.best_params_"
      ],
      "execution_count": null,
      "outputs": [
        {
          "output_type": "execute_result",
          "data": {
            "text/plain": [
              "{'criterion': 'entropy', 'max_depth': 5, 'min_samples_leaf': 10}"
            ]
          },
          "metadata": {
            "tags": []
          },
          "execution_count": 19
        }
      ]
    },
    {
      "cell_type": "code",
      "metadata": {
        "colab": {
          "base_uri": "https://localhost:8080/",
          "height": 421
        },
        "id": "qui89NgoTArA",
        "outputId": "e5e71812-8883-4417-bc45-f0daa6b5b5d2"
      },
      "source": [
        "# Conjunto de train\n",
        "y_pred_train = cv_dt.predict(X_train)\n",
        "sns.heatmap(confusion_matrix(y_train, y_pred_train), annot=True, fmt='g')\n",
        "print(classification_report(y_train, y_pred_train))"
      ],
      "execution_count": null,
      "outputs": [
        {
          "output_type": "stream",
          "text": [
            "              precision    recall  f1-score   support\n",
            "\n",
            "           0       0.89      1.00      0.94      1232\n",
            "           1       0.94      0.39      0.55       251\n",
            "\n",
            "    accuracy                           0.89      1483\n",
            "   macro avg       0.92      0.69      0.75      1483\n",
            "weighted avg       0.90      0.89      0.87      1483\n",
            "\n"
          ],
          "name": "stdout"
        },
        {
          "output_type": "display_data",
          "data": {
            "image/png": "[encoded data removed]",
            "text/plain": [
              "<Figure size 432x288 with 2 Axes>"
            ]
          },
          "metadata": {
            "tags": [],
            "needs_background": "light"
          }
        }
      ]
    },
    {
      "cell_type": "code",
      "metadata": {
        "colab": {
          "base_uri": "https://localhost:8080/",
          "height": 421
        },
        "id": "VSbl9M21QXYg",
        "outputId": "4db22edf-af3f-4b8e-a12b-28123169e202"
      },
      "source": [
        "# Conjunto de test\n",
        "y_pred = cv_dt.predict(X_test)\n",
        "sns.heatmap(confusion_matrix(y_test, y_pred), annot= True, fmt='g')\n",
        "print(classification_report(y_test, y_pred))"
      ],
      "execution_count": null,
      "outputs": [
        {
          "output_type": "stream",
          "text": [
            "              precision    recall  f1-score   support\n",
            "\n",
            "           0       0.90      0.99      0.94       313\n",
            "           1       0.86      0.41      0.56        58\n",
            "\n",
            "    accuracy                           0.90       371\n",
            "   macro avg       0.88      0.70      0.75       371\n",
            "weighted avg       0.89      0.90      0.88       371\n",
            "\n"
          ],
          "name": "stdout"
        },
        {
          "output_type": "display_data",
          "data": {
            "image/png": "[encoded data removed]",
            "text/plain": [
              "<Figure size 432x288 with 2 Axes>"
            ]
          },
          "metadata": {
            "tags": [],
            "needs_background": "light"
          }
        }
      ]
    },
    {
      "cell_type": "markdown",
      "metadata": {
        "id": "FkuTN1ha4t7D"
      },
      "source": [
        "## Conclusión del trabajo\n",
        "\n",
        "\n",
        "En esta etapa se optimizaron dos algoritmos de aprendizaje automático:\n",
        "* SGDClassifier\n",
        "* DecisionTreeClassifier\n",
        "\n",
        "disponibles en la librería de scikit-learn. \n",
        "\n",
        "En una primera instancia, se trabajó con los hiperparámetros por defecto, y en la segunda etapa se optimizaron los hiperparámetros correspondientes a cada algoritmo. La semilla aleatoria se fijo en 100. \n",
        "\n",
        "**SGDClassifier**\n",
        "\n",
        "Trabajando con los hiperparámetros por defecto se obtuvieron:\n",
        "\n",
        "* training: 87% accuracy\n",
        "* testing: 88% accuracy\n",
        "\n",
        "También se reportaron valores de Precision, Recall, F1 y la  matriz de confusión correspondiente en todos los casos. \n",
        "\n",
        "*Optimización de SGDClassifier*\n",
        "\n",
        "Mediante una busqueda en grilla, se optimizaron los siguientes hiperparámetros: \n",
        "* loss, \n",
        "* l1_ratio, \n",
        "* penalty (se dejo fija en elasticnet) y \n",
        "* alpha. \n",
        "\n",
        "Los mejores valores se obtuvieron con:\n",
        "* alpha: 0.001\n",
        "* l1_ratio: 0.5\n",
        "* loss: 'hinge'\n",
        "\n",
        "Los valores obtenidos son similares al algoritmo sin optimizar. \n",
        "Si observamos con cuidado las dos matrices de confusión de TEST, los valores que caen por fuera de la diagonal principal (los errores) sin idénticos en ambos casos. \n",
        "\n",
        "\n",
        "**DecisionTreeClassifier**\n",
        "\n",
        "Trabajando con los valores por defecto se obtuvieron:\n",
        "\n",
        "* training: 100% accuracy\n",
        "* testing: 91% accuracy\n",
        "\n",
        "También se reportaron valores de Precision, Recall, F1 y la  matriz de confusión correspondiente en todos los casos. \n",
        "\n",
        "*Optimización de DecisionTreeClassifier*\n",
        "\n",
        "Con GridSearchCV se optimizaron los siguientes hiperparámetros:\n",
        "\n",
        "* criterion: 'gini', 'entropía'.\n",
        "* max_depth: 5, 10, 15, 20, 22. \n",
        "* min_samples_leaf: 1, 5, 10, 15. \n",
        "\n",
        "Los hiparparámetros que dan como resultado los mejores valores de accuracy son:\n",
        "\n",
        "* criterion: 'entropy'.\n",
        "* max_depth: 5.\n",
        "* min_samples_leaf: 10.\n",
        "\n",
        "obteniendo para\n",
        "\n",
        "* training: 89% de exactitud\n",
        "* testing: 90% de exactitud\n",
        "\n",
        "También se reportan los valores de Precision, Recall, F1 y matriz de confusión correspondiente. "
      ]
    },
    {
      "cell_type": "code",
      "metadata": {
        "id": "Jj4CN-ZmRPfL"
      },
      "source": [
        ""
      ],
      "execution_count": null,
      "outputs": []
    }
  ]
}