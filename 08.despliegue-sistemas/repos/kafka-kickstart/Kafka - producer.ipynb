{
 "cells": [
  {
   "cell_type": "code",
   "execution_count": 7,
   "metadata": {},
   "outputs": [
    {
     "name": "stdout",
     "output_type": "stream",
     "text": [
      "Requirement already satisfied: kafka-python in c:\\python38\\lib\\site-packages (2.0.1)\n"
     ]
    }
   ],
   "source": [
    "!pip install kafka-python"
   ]
  },
  {
   "cell_type": "markdown",
   "metadata": {},
   "source": [
    "## Library documentation\n",
    "\n",
    "https://kafka-python.readthedocs.io/en/master/usage.html"
   ]
  },
  {
   "cell_type": "code",
   "execution_count": 1,
   "metadata": {},
   "outputs": [],
   "source": [
    "# Constants to be used by admin, consumer and producer\n",
    "KAFKA_PORT = '9092'\n",
    "KAFKA_DNS = 'localhost'\n",
    "KAFKA_SERVER_URI = f'{KAFKA_DNS}:{KAFKA_PORT}'\n",
    "TOPIC = 'dummy_topic'\n",
    "PARTITIONS = 3\n",
    "REPLICATION_FACTOR = 1"
   ]
  },
  {
   "cell_type": "code",
   "execution_count": 6,
   "metadata": {},
   "outputs": [
    {
     "name": "stdout",
     "output_type": "stream",
     "text": [
      "Message to be sent: SOMETHING\n"
     ]
    }
   ],
   "source": [
    "# Produce a message\n",
    "\n",
    "from kafka import KafkaProducer\n",
    "from kafka.errors import KafkaError\n",
    "\n",
    "producer = KafkaProducer(bootstrap_servers=[KAFKA_SERVER_URI])\n",
    "\n",
    "# Asynchronous by default\n",
    "message = input(\"Message to be sent: \")\n",
    "future = producer.send(TOPIC, value=bytes(message, 'utf-8'))"
   ]
  },
  {
   "cell_type": "code",
   "execution_count": null,
   "metadata": {},
   "outputs": [],
   "source": []
  }
 ],
 "metadata": {
  "kernelspec": {
   "display_name": "Python 3",
   "language": "python",
   "name": "python3"
  },
  "language_info": {
   "codemirror_mode": {
    "name": "ipython",
    "version": 3
   },
   "file_extension": ".py",
   "mimetype": "text/x-python",
   "name": "python",
   "nbconvert_exporter": "python",
   "pygments_lexer": "ipython3",
   "version": "3.8.2"
  }
 },
 "nbformat": 4,
 "nbformat_minor": 4
}
