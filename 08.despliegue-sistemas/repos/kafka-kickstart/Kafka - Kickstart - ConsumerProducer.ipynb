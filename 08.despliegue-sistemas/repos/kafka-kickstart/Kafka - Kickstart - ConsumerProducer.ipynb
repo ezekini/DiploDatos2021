{
 "cells": [
  {
   "cell_type": "markdown",
   "metadata": {},
   "source": [
    "## Setup your Kafka cluster with Zookeeper\n",
    "\n",
    "todo"
   ]
  },
  {
   "cell_type": "markdown",
   "metadata": {},
   "source": [
    "## Install dependencies for python project"
   ]
  },
  {
   "cell_type": "code",
   "execution_count": 33,
   "metadata": {},
   "outputs": [
    {
     "name": "stdout",
     "output_type": "stream",
     "text": [
      "Requirement already satisfied: kafka-python in c:\\python38\\lib\\site-packages (2.0.1)\n"
     ]
    }
   ],
   "source": [
    "!pip install kafka-python"
   ]
  },
  {
   "cell_type": "markdown",
   "metadata": {},
   "source": [
    "## Library documentation\n",
    "\n",
    "https://kafka-python.readthedocs.io/en/master/usage.html"
   ]
  },
  {
   "cell_type": "markdown",
   "metadata": {},
   "source": [
    "## Consumer / Producer with python"
   ]
  },
  {
   "cell_type": "code",
   "execution_count": 34,
   "metadata": {},
   "outputs": [],
   "source": [
    "# Constants to be used by admin, consumer and producer\n",
    "import logging\n",
    "\n",
    "KAFKA_PORT = '9092'\n",
    "KAFKA_DNS = 'localhost'\n",
    "KAFKA_SERVER_URI = f'{KAFKA_DNS}:{KAFKA_PORT}'\n",
    "TOPIC = 'dummy_topic'\n",
    "PARTITIONS = 3\n",
    "REPLICATION_FACTOR = 1"
   ]
  },
  {
   "cell_type": "code",
   "execution_count": 35,
   "metadata": {},
   "outputs": [
    {
     "name": "stderr",
     "output_type": "stream",
     "text": [
      "WARNING:root:Topic dummy_topic already created. Creation ommited\n"
     ]
    }
   ],
   "source": [
    "# Create a topic with an admin client\n",
    "from kafka.admin import KafkaAdminClient, NewTopic\n",
    "from kafka.errors import TopicAlreadyExistsError\n",
    "\n",
    "admin_client = KafkaAdminClient(\n",
    "    bootstrap_servers=KAFKA_SERVER_URI, \n",
    "    client_id='adminZero'\n",
    ")\n",
    "\n",
    "topic_list = []\n",
    "topic_list.append(NewTopic(name=TOPIC, num_partitions=PARTITIONS, replication_factor=REPLICATION_FACTOR))\n",
    "try:\n",
    "    admin_client.create_topics(new_topics=topic_list, validate_only=False)\n",
    "except TopicAlreadyExistsError:\n",
    "    logging.warning(f\"Topic {TOPIC} already created. Creation ommited\")"
   ]
  },
  {
   "cell_type": "code",
   "execution_count": 36,
   "metadata": {},
   "outputs": [
    {
     "name": "stderr",
     "output_type": "stream",
     "text": [
      "WARNING:kafka.coordinator.consumer:group_id is None: disabling auto-commit.\n"
     ]
    },
    {
     "data": {
      "text/plain": [
       "{'dummy_topic', 'first_topic', 'my-topic', 'new_topic'}"
      ]
     },
     "execution_count": 36,
     "metadata": {},
     "output_type": "execute_result"
    }
   ],
   "source": [
    "# List all topics and find the 'dummy_topic'\n",
    "\n",
    "from kafka import KafkaConsumer\n",
    "consumer = KafkaConsumer(group_id=None, bootstrap_servers=[KAFKA_SERVER_URI])\n",
    "consumer.topics()"
   ]
  },
  {
   "cell_type": "code",
   "execution_count": 49,
   "metadata": {},
   "outputs": [
    {
     "name": "stdout",
     "output_type": "stream",
     "text": [
      "Message to be sent: MESSAKE FROM UNIQUEID\n"
     ]
    }
   ],
   "source": [
    "# Produce a message\n",
    "\n",
    "from kafka import KafkaProducer\n",
    "from kafka.errors import KafkaError\n",
    "\n",
    "producer = KafkaProducer(bootstrap_servers=[KAFKA_SERVER_URI])\n",
    "\n",
    "# Asynchronous by default\n",
    "message = input(\"Message to be sent: \")\n",
    "FROM = 'uniqueID' # This is useful to ensure order in reading.\n",
    "future = producer.send(TOPIC, key=bytes(FROM, 'utf-8'), value=bytes(message, 'utf-8'))"
   ]
  },
  {
   "cell_type": "code",
   "execution_count": 53,
   "metadata": {},
   "outputs": [
    {
     "name": "stdout",
     "output_type": "stream",
     "text": [
      "DUMMY_TOPIC Partition: 2 Offset:5 key=None value=b'SOMETHING'\n"
     ]
    }
   ],
   "source": [
    "# Consume just one message\n",
    "from kafka import KafkaConsumer\n",
    "\n",
    "def do_some_stuff(message):\n",
    "    print(f\"{message.topic.upper()} Partition: {message.partition} Offset:{message.offset} key={message.key} value={message.value}\")\n",
    "\n",
    "\n",
    "# Open consumer connection\n",
    "consumer = KafkaConsumer(TOPIC,\n",
    "                         group_id=\"group team\",\n",
    "                         auto_offset_reset='latest',\n",
    "                         enable_auto_commit=False, # We are going to commit manually after doing some stuff.\n",
    "                         bootstrap_servers=[KAFKA_SERVER_URI])\n",
    "    \n",
    "# Read from consumer\n",
    "message = next(consumer)\n",
    "# Operate with message \n",
    "do_some_stuff(message)\n",
    "# Commit the offset\n",
    "consumer.commit()\n",
    "# Close the consumer connection\n",
    "consumer.close()"
   ]
  },
  {
   "cell_type": "code",
   "execution_count": null,
   "metadata": {},
   "outputs": [],
   "source": []
  },
  {
   "cell_type": "code",
   "execution_count": null,
   "metadata": {},
   "outputs": [],
   "source": []
  },
  {
   "cell_type": "code",
   "execution_count": null,
   "metadata": {},
   "outputs": [],
   "source": []
  }
 ],
 "metadata": {
  "kernelspec": {
   "display_name": "Python 3",
   "language": "python",
   "name": "python3"
  },
  "language_info": {
   "codemirror_mode": {
    "name": "ipython",
    "version": 3
   },
   "file_extension": ".py",
   "mimetype": "text/x-python",
   "name": "python",
   "nbconvert_exporter": "python",
   "pygments_lexer": "ipython3",
   "version": "3.8.2"
  }
 },
 "nbformat": 4,
 "nbformat_minor": 4
}
