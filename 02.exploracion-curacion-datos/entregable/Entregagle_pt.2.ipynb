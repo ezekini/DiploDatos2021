{
  "nbformat": 4,
  "nbformat_minor": 0,
  "metadata": {
    "colab": {
      "name": "Entregable_Parte_2_general.ipynb",
      "provenance": [],
      "collapsed_sections": []
    },
    "kernelspec": {
      "name": "python3",
      "display_name": "Python 3"
    },
    "language_info": {
      "name": "python"
    }
  },
  "cells": [
    {
      "cell_type": "markdown",
      "metadata": {
        "id": "zO4bRoxr2Apy"
      },
      "source": [
        "**Diplomatura en Ciencia de Datos, Aprendizaje Automático y sus Aplicaciones**\n",
        "\n",
        "**Exploración y Curación de Datos**\n",
        "\n",
        "*Edición 2021*\n",
        "\n",
        "----\n",
        "\n",
        "# Trabajo práctico entregable - parte 2\n",
        "\n",
        "\n",
        "En el ejercicio 1 de la parte 1 del entregable seleccionaron las filas y columnas relevantes al problema de predicción de precios de una propiedad. Además de ello, tuvieron que reducir el número de valores posibles para las variables categóricas utilizando información de dominio.\n",
        "\n",
        "En el ejercicio 2 de la parte 1 del entregable imputaron los valores faltantes de las columnas `Suburb` y las columnas obtenidas a partir del conjunto de datos `airbnb`.\n",
        "\n",
        "En esta notebook, **se utilizará resultado de dichas operaciones.**\n"
      ]
    },
    {
      "cell_type": "code",
      "metadata": {
        "id": "4udjxjk1EtVU"
      },
      "source": [
        "import matplotlib.pyplot as plt\n",
        "import numpy as np\n",
        "import pandas as pd\n",
        "import seaborn as sns\n",
        "sns.set_context('talk')"
      ],
      "execution_count": null,
      "outputs": []
    },
    {
      "cell_type": "code",
      "metadata": {
        "colab": {
          "base_uri": "https://localhost:8080/",
          "height": 143
        },
        "id": "_qeFN3GnEvMk",
        "outputId": "70f540f1-e999-4f78-a2f0-4374fb0a24b1"
      },
      "source": [
        "# Acá deberían leer el conjunto de datos que ya tienen.\n",
        "url = 'https://drive.google.com/file/d/10X-tkgrUkqV2gPRq6X8hr-PR0iDz-sJp/view?usp=sharing'\n",
        "path = 'https://drive.google.com/uc?export=download&id='+url.split('/')[-2]\n",
        "melb_df = pd.read_csv(path)\n",
        "melb_df[:3]"
      ],
      "execution_count": null,
      "outputs": [
        {
          "output_type": "execute_result",
          "data": {
            "text/html": [
              "<div>\n",
              "<style scoped>\n",
              "    .dataframe tbody tr th:only-of-type {\n",
              "        vertical-align: middle;\n",
              "    }\n",
              "\n",
              "    .dataframe tbody tr th {\n",
              "        vertical-align: top;\n",
              "    }\n",
              "\n",
              "    .dataframe thead th {\n",
              "        text-align: right;\n",
              "    }\n",
              "</style>\n",
              "<table border=\"1\" class=\"dataframe\">\n",
              "  <thead>\n",
              "    <tr style=\"text-align: right;\">\n",
              "      <th></th>\n",
              "      <th>Unnamed: 0</th>\n",
              "      <th>Rooms</th>\n",
              "      <th>Type</th>\n",
              "      <th>Price</th>\n",
              "      <th>Date</th>\n",
              "      <th>Distance</th>\n",
              "      <th>Postcode</th>\n",
              "      <th>Bedroom2</th>\n",
              "      <th>Bathroom</th>\n",
              "      <th>Car</th>\n",
              "      <th>Landsize</th>\n",
              "      <th>BuildingArea</th>\n",
              "      <th>YearBuilt</th>\n",
              "      <th>CouncilArea</th>\n",
              "      <th>Regionname</th>\n",
              "      <th>Propertycount</th>\n",
              "      <th>Suburb</th>\n",
              "      <th>PrecioPromedioAirbnb</th>\n",
              "    </tr>\n",
              "  </thead>\n",
              "  <tbody>\n",
              "    <tr>\n",
              "      <th>0</th>\n",
              "      <td>0</td>\n",
              "      <td>2</td>\n",
              "      <td>h</td>\n",
              "      <td>1480000.0</td>\n",
              "      <td>2016-03-12</td>\n",
              "      <td>2.5</td>\n",
              "      <td>3067.0</td>\n",
              "      <td>2.0</td>\n",
              "      <td>1.0</td>\n",
              "      <td>1.0</td>\n",
              "      <td>202.0</td>\n",
              "      <td>NaN</td>\n",
              "      <td>NaN</td>\n",
              "      <td>Yarra</td>\n",
              "      <td>Northern Metropolitan</td>\n",
              "      <td>4019.0</td>\n",
              "      <td>Abbotsford</td>\n",
              "      <td>130.624031</td>\n",
              "    </tr>\n",
              "    <tr>\n",
              "      <th>1</th>\n",
              "      <td>1</td>\n",
              "      <td>2</td>\n",
              "      <td>h</td>\n",
              "      <td>1035000.0</td>\n",
              "      <td>2016-04-02</td>\n",
              "      <td>2.5</td>\n",
              "      <td>3067.0</td>\n",
              "      <td>2.0</td>\n",
              "      <td>1.0</td>\n",
              "      <td>0.0</td>\n",
              "      <td>156.0</td>\n",
              "      <td>79.0</td>\n",
              "      <td>1900.0</td>\n",
              "      <td>Yarra</td>\n",
              "      <td>Northern Metropolitan</td>\n",
              "      <td>4019.0</td>\n",
              "      <td>Abbotsford</td>\n",
              "      <td>130.624031</td>\n",
              "    </tr>\n",
              "    <tr>\n",
              "      <th>2</th>\n",
              "      <td>2</td>\n",
              "      <td>3</td>\n",
              "      <td>h</td>\n",
              "      <td>1465000.0</td>\n",
              "      <td>2017-04-03</td>\n",
              "      <td>2.5</td>\n",
              "      <td>3067.0</td>\n",
              "      <td>3.0</td>\n",
              "      <td>2.0</td>\n",
              "      <td>0.0</td>\n",
              "      <td>134.0</td>\n",
              "      <td>150.0</td>\n",
              "      <td>1900.0</td>\n",
              "      <td>Yarra</td>\n",
              "      <td>Northern Metropolitan</td>\n",
              "      <td>4019.0</td>\n",
              "      <td>Abbotsford</td>\n",
              "      <td>130.624031</td>\n",
              "    </tr>\n",
              "  </tbody>\n",
              "</table>\n",
              "</div>"
            ],
            "text/plain": [
              "   Unnamed: 0  Rooms Type  ...  Propertycount      Suburb  PrecioPromedioAirbnb\n",
              "0           0      2    h  ...         4019.0  Abbotsford            130.624031\n",
              "1           1      2    h  ...         4019.0  Abbotsford            130.624031\n",
              "2           2      3    h  ...         4019.0  Abbotsford            130.624031\n",
              "\n",
              "[3 rows x 18 columns]"
            ]
          },
          "metadata": {
            "tags": []
          },
          "execution_count": 2
        }
      ]
    },
    {
      "cell_type": "code",
      "metadata": {
        "id": "2VmkNPlH5K4i"
      },
      "source": [
        "melb_df.drop('Unnamed: 0', axis=1, inplace=True)"
      ],
      "execution_count": null,
      "outputs": []
    },
    {
      "cell_type": "markdown",
      "metadata": {
        "id": "s-mixICN22kA"
      },
      "source": [
        "## Ejercicio 1: Encoding\n",
        "\n",
        "1. Seleccionar todas las filas y columnas del conjunto de datos obtenido en la parte 1 del entregable, **excepto** `BuildingArea` y `YearBuilt`, que volveremos a imputar más adelante.\n",
        "\n",
        "2. Aplicar una codificación One-hot encoding a cada fila, tanto para variables numéricas como categóricas. Si lo consideran necesario, pueden volver a reducir el número de categorías únicas.\n",
        "\n",
        "Algunas opciones:\n",
        "  1. Utilizar `OneHotEncoder` junto con el parámetro `categories` para las variables categóricas y luego usar `numpy.hstack` para concatenar el resultado con las variables numéricas. \n",
        "  2. `DictVectorizer` con algunos pasos de pre-proceso previo.\n",
        "\n",
        "Recordar también que el atributo `pandas.DataFrame.values` permite acceder a la matriz de numpy subyacente a un DataFrame.\n"
      ]
    },
    {
      "cell_type": "code",
      "metadata": {
        "colab": {
          "base_uri": "https://localhost:8080/"
        },
        "id": "e9t4Q_yY7Qch",
        "outputId": "3a47ebb5-b800-45e5-af51-c5d4853b7bac"
      },
      "source": [
        "melb_df.columns"
      ],
      "execution_count": null,
      "outputs": [
        {
          "output_type": "execute_result",
          "data": {
            "text/plain": [
              "Index(['Rooms', 'Type', 'Price', 'Date', 'Distance', 'Postcode', 'Bedroom2',\n",
              "       'Bathroom', 'Car', 'Landsize', 'BuildingArea', 'YearBuilt',\n",
              "       'CouncilArea', 'Regionname', 'Propertycount', 'Suburb',\n",
              "       'PrecioPromedioAirbnb'],\n",
              "      dtype='object')"
            ]
          },
          "metadata": {
            "tags": []
          },
          "execution_count": 4
        }
      ]
    },
    {
      "cell_type": "markdown",
      "metadata": {
        "id": "-SpxY1uFD608"
      },
      "source": [
        "Separamos las columnas categoricas a las cuales vamos a hacer onehotencoder"
      ]
    },
    {
      "cell_type": "code",
      "metadata": {
        "id": "K_Qk43aLIl4d"
      },
      "source": [
        "categorical_cols = ['Type', 'CouncilArea', 'Suburb', 'Regionname'] #columnas para pasar a onehotencoder\n",
        "numerical_cols = ['Rooms', 'Bedroom2', 'Bathroom', 'Car', 'Price', 'PrecioPromedioAirbnb', 'Distance', 'Propertycount']"
      ],
      "execution_count": null,
      "outputs": []
    },
    {
      "cell_type": "markdown",
      "metadata": {
        "id": "dF4S6SLiEVlg"
      },
      "source": [
        "Aplicamos one-hot encoding"
      ]
    },
    {
      "cell_type": "code",
      "metadata": {
        "colab": {
          "base_uri": "https://localhost:8080/"
        },
        "id": "XVlCjdoW5fKb",
        "outputId": "2528cc45-ce38-41c5-da67-05626dba3b0f"
      },
      "source": [
        "from sklearn.preprocessing import OneHotEncoder\n",
        "\n",
        "encoder = OneHotEncoder(sparse=False)\n",
        "encoder.fit(melb_df[categorical_cols])\n",
        "# We can inspect the categories found by the encoder\n",
        "#encoder.categories_\n"
      ],
      "execution_count": null,
      "outputs": [
        {
          "output_type": "execute_result",
          "data": {
            "text/plain": [
              "OneHotEncoder(categories='auto', drop=None, dtype=<class 'numpy.float64'>,\n",
              "              handle_unknown='error', sparse=False)"
            ]
          },
          "metadata": {
            "tags": []
          },
          "execution_count": 6
        }
      ]
    },
    {
      "cell_type": "code",
      "metadata": {
        "colab": {
          "base_uri": "https://localhost:8080/"
        },
        "id": "Ws78QT32-JCN",
        "outputId": "b24c504b-06a6-41a5-82c6-fbcad4fcb421"
      },
      "source": [
        "encoded_types = encoder.transform(melb_df[categorical_cols])\n",
        "encoded_types[:10]"
      ],
      "execution_count": null,
      "outputs": [
        {
          "output_type": "execute_result",
          "data": {
            "text/plain": [
              "array([[1., 0., 0., ..., 0., 0., 0.],\n",
              "       [1., 0., 0., ..., 0., 0., 0.],\n",
              "       [1., 0., 0., ..., 0., 0., 0.],\n",
              "       ...,\n",
              "       [1., 0., 0., ..., 0., 0., 0.],\n",
              "       [0., 0., 1., ..., 0., 0., 0.],\n",
              "       [1., 0., 0., ..., 0., 0., 0.]])"
            ]
          },
          "metadata": {
            "tags": []
          },
          "execution_count": 7
        }
      ]
    },
    {
      "cell_type": "code",
      "metadata": {
        "id": "DQ_0Fx2E_aAI"
      },
      "source": [
        "encoded_df = pd.DataFrame(data=encoded_types, columns=encoder.get_feature_names(categorical_cols))"
      ],
      "execution_count": null,
      "outputs": []
    },
    {
      "cell_type": "code",
      "metadata": {
        "colab": {
          "base_uri": "https://localhost:8080/",
          "height": 196
        },
        "id": "cv6pIx4BDeRO",
        "outputId": "c959ba59-a25e-4660-d896-7b7e911f7ff2"
      },
      "source": [
        "encoded_df.head(2)"
      ],
      "execution_count": null,
      "outputs": [
        {
          "output_type": "execute_result",
          "data": {
            "text/html": [
              "<div>\n",
              "<style scoped>\n",
              "    .dataframe tbody tr th:only-of-type {\n",
              "        vertical-align: middle;\n",
              "    }\n",
              "\n",
              "    .dataframe tbody tr th {\n",
              "        vertical-align: top;\n",
              "    }\n",
              "\n",
              "    .dataframe thead th {\n",
              "        text-align: right;\n",
              "    }\n",
              "</style>\n",
              "<table border=\"1\" class=\"dataframe\">\n",
              "  <thead>\n",
              "    <tr style=\"text-align: right;\">\n",
              "      <th></th>\n",
              "      <th>Type_h</th>\n",
              "      <th>Type_t</th>\n",
              "      <th>Type_u</th>\n",
              "      <th>CouncilArea_Abbotsford</th>\n",
              "      <th>CouncilArea_Airport West</th>\n",
              "      <th>CouncilArea_Alphington</th>\n",
              "      <th>CouncilArea_Ascot Vale</th>\n",
              "      <th>CouncilArea_Ashburton</th>\n",
              "      <th>CouncilArea_Ashwood</th>\n",
              "      <th>CouncilArea_Balaclava</th>\n",
              "      <th>CouncilArea_Banyule</th>\n",
              "      <th>CouncilArea_Bayside</th>\n",
              "      <th>CouncilArea_Bayswater</th>\n",
              "      <th>CouncilArea_Bayswater North</th>\n",
              "      <th>CouncilArea_Bellfield</th>\n",
              "      <th>CouncilArea_Bentleigh East</th>\n",
              "      <th>CouncilArea_Blackburn</th>\n",
              "      <th>CouncilArea_Blackburn North</th>\n",
              "      <th>CouncilArea_Blackburn South</th>\n",
              "      <th>CouncilArea_Boroondara</th>\n",
              "      <th>CouncilArea_Briar Hill</th>\n",
              "      <th>CouncilArea_Brighton</th>\n",
              "      <th>CouncilArea_Brighton East</th>\n",
              "      <th>CouncilArea_Brimbank</th>\n",
              "      <th>CouncilArea_Brooklyn</th>\n",
              "      <th>CouncilArea_Brunswick</th>\n",
              "      <th>CouncilArea_Brunswick East</th>\n",
              "      <th>CouncilArea_Brunswick West</th>\n",
              "      <th>CouncilArea_Bulleen</th>\n",
              "      <th>CouncilArea_Bundoora</th>\n",
              "      <th>CouncilArea_Burnside</th>\n",
              "      <th>CouncilArea_Burnside Heights</th>\n",
              "      <th>CouncilArea_Burwood</th>\n",
              "      <th>CouncilArea_Burwood East</th>\n",
              "      <th>CouncilArea_Camberwell</th>\n",
              "      <th>CouncilArea_Cardinia</th>\n",
              "      <th>CouncilArea_Carlton</th>\n",
              "      <th>CouncilArea_Carlton North</th>\n",
              "      <th>CouncilArea_Carnegie</th>\n",
              "      <th>CouncilArea_Caroline Springs</th>\n",
              "      <th>...</th>\n",
              "      <th>Suburb_Templestowe Lower</th>\n",
              "      <th>Suburb_The Basin</th>\n",
              "      <th>Suburb_Thomastown</th>\n",
              "      <th>Suburb_Thornbury</th>\n",
              "      <th>Suburb_Toorak</th>\n",
              "      <th>Suburb_Travancore</th>\n",
              "      <th>Suburb_Truganina</th>\n",
              "      <th>Suburb_Tullamarine</th>\n",
              "      <th>Suburb_Upwey</th>\n",
              "      <th>Suburb_Vermont</th>\n",
              "      <th>Suburb_Vermont South</th>\n",
              "      <th>Suburb_Viewbank</th>\n",
              "      <th>Suburb_Wantirna</th>\n",
              "      <th>Suburb_Wantirna South</th>\n",
              "      <th>Suburb_Warrandyte</th>\n",
              "      <th>Suburb_Waterways</th>\n",
              "      <th>Suburb_Watsonia</th>\n",
              "      <th>Suburb_Watsonia North</th>\n",
              "      <th>Suburb_Werribee</th>\n",
              "      <th>Suburb_West Footscray</th>\n",
              "      <th>Suburb_West Melbourne</th>\n",
              "      <th>Suburb_Westmeadows</th>\n",
              "      <th>Suburb_Wheelers Hill</th>\n",
              "      <th>Suburb_Whittlesea</th>\n",
              "      <th>Suburb_Williams Landing</th>\n",
              "      <th>Suburb_Williamstown</th>\n",
              "      <th>Suburb_Williamstown North</th>\n",
              "      <th>Suburb_Windsor</th>\n",
              "      <th>Suburb_Wollert</th>\n",
              "      <th>Suburb_Wonga Park</th>\n",
              "      <th>Suburb_Wyndham Vale</th>\n",
              "      <th>Suburb_Yallambie</th>\n",
              "      <th>Suburb_Yarra Glen</th>\n",
              "      <th>Suburb_Yarraville</th>\n",
              "      <th>Regionname_Eastern Metropolitan</th>\n",
              "      <th>Regionname_Northern Metropolitan</th>\n",
              "      <th>Regionname_South-Eastern Metropolitan</th>\n",
              "      <th>Regionname_Southern Metropolitan</th>\n",
              "      <th>Regionname_Victoria</th>\n",
              "      <th>Regionname_Western Metropolitan</th>\n",
              "    </tr>\n",
              "  </thead>\n",
              "  <tbody>\n",
              "    <tr>\n",
              "      <th>0</th>\n",
              "      <td>1.0</td>\n",
              "      <td>0.0</td>\n",
              "      <td>0.0</td>\n",
              "      <td>0.0</td>\n",
              "      <td>0.0</td>\n",
              "      <td>0.0</td>\n",
              "      <td>0.0</td>\n",
              "      <td>0.0</td>\n",
              "      <td>0.0</td>\n",
              "      <td>0.0</td>\n",
              "      <td>0.0</td>\n",
              "      <td>0.0</td>\n",
              "      <td>0.0</td>\n",
              "      <td>0.0</td>\n",
              "      <td>0.0</td>\n",
              "      <td>0.0</td>\n",
              "      <td>0.0</td>\n",
              "      <td>0.0</td>\n",
              "      <td>0.0</td>\n",
              "      <td>0.0</td>\n",
              "      <td>0.0</td>\n",
              "      <td>0.0</td>\n",
              "      <td>0.0</td>\n",
              "      <td>0.0</td>\n",
              "      <td>0.0</td>\n",
              "      <td>0.0</td>\n",
              "      <td>0.0</td>\n",
              "      <td>0.0</td>\n",
              "      <td>0.0</td>\n",
              "      <td>0.0</td>\n",
              "      <td>0.0</td>\n",
              "      <td>0.0</td>\n",
              "      <td>0.0</td>\n",
              "      <td>0.0</td>\n",
              "      <td>0.0</td>\n",
              "      <td>0.0</td>\n",
              "      <td>0.0</td>\n",
              "      <td>0.0</td>\n",
              "      <td>0.0</td>\n",
              "      <td>0.0</td>\n",
              "      <td>...</td>\n",
              "      <td>0.0</td>\n",
              "      <td>0.0</td>\n",
              "      <td>0.0</td>\n",
              "      <td>0.0</td>\n",
              "      <td>0.0</td>\n",
              "      <td>0.0</td>\n",
              "      <td>0.0</td>\n",
              "      <td>0.0</td>\n",
              "      <td>0.0</td>\n",
              "      <td>0.0</td>\n",
              "      <td>0.0</td>\n",
              "      <td>0.0</td>\n",
              "      <td>0.0</td>\n",
              "      <td>0.0</td>\n",
              "      <td>0.0</td>\n",
              "      <td>0.0</td>\n",
              "      <td>0.0</td>\n",
              "      <td>0.0</td>\n",
              "      <td>0.0</td>\n",
              "      <td>0.0</td>\n",
              "      <td>0.0</td>\n",
              "      <td>0.0</td>\n",
              "      <td>0.0</td>\n",
              "      <td>0.0</td>\n",
              "      <td>0.0</td>\n",
              "      <td>0.0</td>\n",
              "      <td>0.0</td>\n",
              "      <td>0.0</td>\n",
              "      <td>0.0</td>\n",
              "      <td>0.0</td>\n",
              "      <td>0.0</td>\n",
              "      <td>0.0</td>\n",
              "      <td>0.0</td>\n",
              "      <td>0.0</td>\n",
              "      <td>0.0</td>\n",
              "      <td>1.0</td>\n",
              "      <td>0.0</td>\n",
              "      <td>0.0</td>\n",
              "      <td>0.0</td>\n",
              "      <td>0.0</td>\n",
              "    </tr>\n",
              "    <tr>\n",
              "      <th>1</th>\n",
              "      <td>1.0</td>\n",
              "      <td>0.0</td>\n",
              "      <td>0.0</td>\n",
              "      <td>0.0</td>\n",
              "      <td>0.0</td>\n",
              "      <td>0.0</td>\n",
              "      <td>0.0</td>\n",
              "      <td>0.0</td>\n",
              "      <td>0.0</td>\n",
              "      <td>0.0</td>\n",
              "      <td>0.0</td>\n",
              "      <td>0.0</td>\n",
              "      <td>0.0</td>\n",
              "      <td>0.0</td>\n",
              "      <td>0.0</td>\n",
              "      <td>0.0</td>\n",
              "      <td>0.0</td>\n",
              "      <td>0.0</td>\n",
              "      <td>0.0</td>\n",
              "      <td>0.0</td>\n",
              "      <td>0.0</td>\n",
              "      <td>0.0</td>\n",
              "      <td>0.0</td>\n",
              "      <td>0.0</td>\n",
              "      <td>0.0</td>\n",
              "      <td>0.0</td>\n",
              "      <td>0.0</td>\n",
              "      <td>0.0</td>\n",
              "      <td>0.0</td>\n",
              "      <td>0.0</td>\n",
              "      <td>0.0</td>\n",
              "      <td>0.0</td>\n",
              "      <td>0.0</td>\n",
              "      <td>0.0</td>\n",
              "      <td>0.0</td>\n",
              "      <td>0.0</td>\n",
              "      <td>0.0</td>\n",
              "      <td>0.0</td>\n",
              "      <td>0.0</td>\n",
              "      <td>0.0</td>\n",
              "      <td>...</td>\n",
              "      <td>0.0</td>\n",
              "      <td>0.0</td>\n",
              "      <td>0.0</td>\n",
              "      <td>0.0</td>\n",
              "      <td>0.0</td>\n",
              "      <td>0.0</td>\n",
              "      <td>0.0</td>\n",
              "      <td>0.0</td>\n",
              "      <td>0.0</td>\n",
              "      <td>0.0</td>\n",
              "      <td>0.0</td>\n",
              "      <td>0.0</td>\n",
              "      <td>0.0</td>\n",
              "      <td>0.0</td>\n",
              "      <td>0.0</td>\n",
              "      <td>0.0</td>\n",
              "      <td>0.0</td>\n",
              "      <td>0.0</td>\n",
              "      <td>0.0</td>\n",
              "      <td>0.0</td>\n",
              "      <td>0.0</td>\n",
              "      <td>0.0</td>\n",
              "      <td>0.0</td>\n",
              "      <td>0.0</td>\n",
              "      <td>0.0</td>\n",
              "      <td>0.0</td>\n",
              "      <td>0.0</td>\n",
              "      <td>0.0</td>\n",
              "      <td>0.0</td>\n",
              "      <td>0.0</td>\n",
              "      <td>0.0</td>\n",
              "      <td>0.0</td>\n",
              "      <td>0.0</td>\n",
              "      <td>0.0</td>\n",
              "      <td>0.0</td>\n",
              "      <td>1.0</td>\n",
              "      <td>0.0</td>\n",
              "      <td>0.0</td>\n",
              "      <td>0.0</td>\n",
              "      <td>0.0</td>\n",
              "    </tr>\n",
              "  </tbody>\n",
              "</table>\n",
              "<p>2 rows × 472 columns</p>\n",
              "</div>"
            ],
            "text/plain": [
              "   Type_h  Type_t  ...  Regionname_Victoria  Regionname_Western Metropolitan\n",
              "0     1.0     0.0  ...                  0.0                              0.0\n",
              "1     1.0     0.0  ...                  0.0                              0.0\n",
              "\n",
              "[2 rows x 472 columns]"
            ]
          },
          "metadata": {
            "tags": []
          },
          "execution_count": 9
        }
      ]
    },
    {
      "cell_type": "code",
      "metadata": {
        "colab": {
          "base_uri": "https://localhost:8080/"
        },
        "id": "knS6RNReyG98",
        "outputId": "cea122a1-74c7-4521-f4fe-f687be623da6"
      },
      "source": [
        "encoded_df.shape"
      ],
      "execution_count": null,
      "outputs": [
        {
          "output_type": "execute_result",
          "data": {
            "text/plain": [
              "(13441, 472)"
            ]
          },
          "metadata": {
            "tags": []
          },
          "execution_count": 10
        }
      ]
    },
    {
      "cell_type": "code",
      "metadata": {
        "id": "UV7PXc5mDX7P"
      },
      "source": [
        "#melb_df_enc = pd.concat([encoded_df, melb_df[numerical_cols]], axis=1)"
      ],
      "execution_count": null,
      "outputs": []
    },
    {
      "cell_type": "markdown",
      "metadata": {
        "id": "ismngxPcfoWb"
      },
      "source": [
        "## Ejercicio 2: Imputación por KNN\n",
        "\n",
        "En el teórico se presentó el método `IterativeImputer` para imputar valores faltantes en variables numéricas. Sin embargo, los ejemplos presentados sólo utilizaban algunas variables numéricas presentes en el conjunto de datos. En este ejercicio, utilizaremos la matriz de datos codificada para imputar datos faltantes de manera más precisa.\n",
        "\n",
        "1. Agregue a la matriz obtenida en el punto anterior las columnas `YearBuilt` y `BuildingArea`.\n",
        "2. Aplique una instancia de `IterativeImputer` con un estimador `KNeighborsRegressor` para imputar los valores de las variables. ¿Es necesario estandarizar o escalar los datos previamente?\n",
        "3. Realice un gráfico mostrando la distribución de cada variable antes de ser imputada, y con ambos métodos de imputación."
      ]
    },
    {
      "cell_type": "markdown",
      "metadata": {
        "id": "NoKH4llnH1OL"
      },
      "source": [
        "## Escalamos las variables numericas para que esten en un mismo rango"
      ]
    },
    {
      "cell_type": "markdown",
      "metadata": {
        "id": "qKpZSP5oZOm-"
      },
      "source": [
        "Consideramos necesario escalar las variables ya que KNN requiere escalado de datos porque usa la distancia euclidiana entre dos puntos de datos para encontrar vecinos más cercanos. La distancia euclidiana es sensible a las magnitudes. Las características con magnitudes altas pesarán más que las características con magnitudes bajas. KNN tampoco es adecuado para datos de grandes dimensiones. Para obtener mejores resultados, se recomienda encarecidamente normalizar los datos en la misma escala. Generalmente, el rango de normalización considerado entre 0 y 1. KNN no es adecuado para datos de grandes dimensiones. En tales casos, la dimensión debe reducirse para mejorar el rendimiento. Además, manejar los valores perdidos nos ayudará a mejorar los resultados. \n",
        "\n",
        "*Fuente: https://acortar.link/h7ybe*"
      ]
    },
    {
      "cell_type": "code",
      "metadata": {
        "id": "YqObSG4Nak2X"
      },
      "source": [
        "numerical_cols =['Rooms', 'Bedroom2', 'Bathroom', 'Car', 'PrecioPromedioAirbnb', 'Distance', 'Propertycount']"
      ],
      "execution_count": null,
      "outputs": []
    },
    {
      "cell_type": "code",
      "metadata": {
        "id": "gklhytbGEa_L"
      },
      "source": [
        "df_melb_numeric= melb_df[numerical_cols]\n",
        "df_melb_numerical = pd.concat([df_melb_numeric, melb_df[['YearBuilt', 'BuildingArea']]], axis=1)"
      ],
      "execution_count": null,
      "outputs": []
    },
    {
      "cell_type": "code",
      "metadata": {
        "id": "TAmoCfMTlUtY"
      },
      "source": [
        "from sklearn import preprocessing\n",
        "\n",
        "scaler = preprocessing.StandardScaler().fit(df_melb_numerical[['Rooms', 'Bedroom2', 'Bathroom', 'Car', 'PrecioPromedioAirbnb', 'Distance', 'Propertycount','YearBuilt','BuildingArea']])\n",
        "df_melb_numerical_scaled = scaler.transform(df_melb_numerical[['Rooms', 'Bedroom2', 'Bathroom', 'Car', 'PrecioPromedioAirbnb', 'Distance', 'Propertycount','YearBuilt','BuildingArea']])"
      ],
      "execution_count": null,
      "outputs": []
    },
    {
      "cell_type": "code",
      "metadata": {
        "id": "sp3i_VTbKTqp"
      },
      "source": [
        "df_melb_numerical_scaled = pd.DataFrame(df_melb_numerical_scaled, columns=['Rooms', 'Bedroom2', 'Bathroom', 'Car', 'PrecioPromedioAirbnb', 'Distance', 'Propertycount','YearBuilt','BuildingArea'])"
      ],
      "execution_count": null,
      "outputs": []
    },
    {
      "cell_type": "code",
      "metadata": {
        "colab": {
          "base_uri": "https://localhost:8080/",
          "height": 206
        },
        "id": "XQfWui70Kj8W",
        "outputId": "db5aaaa6-4414-488c-c903-f3dfcf21edee"
      },
      "source": [
        "df_melb_numerical_scaled.head()"
      ],
      "execution_count": null,
      "outputs": [
        {
          "output_type": "execute_result",
          "data": {
            "text/html": [
              "<div>\n",
              "<style scoped>\n",
              "    .dataframe tbody tr th:only-of-type {\n",
              "        vertical-align: middle;\n",
              "    }\n",
              "\n",
              "    .dataframe tbody tr th {\n",
              "        vertical-align: top;\n",
              "    }\n",
              "\n",
              "    .dataframe thead th {\n",
              "        text-align: right;\n",
              "    }\n",
              "</style>\n",
              "<table border=\"1\" class=\"dataframe\">\n",
              "  <thead>\n",
              "    <tr style=\"text-align: right;\">\n",
              "      <th></th>\n",
              "      <th>Rooms</th>\n",
              "      <th>Bedroom2</th>\n",
              "      <th>Bathroom</th>\n",
              "      <th>Car</th>\n",
              "      <th>PrecioPromedioAirbnb</th>\n",
              "      <th>Distance</th>\n",
              "      <th>Propertycount</th>\n",
              "      <th>YearBuilt</th>\n",
              "      <th>BuildingArea</th>\n",
              "    </tr>\n",
              "  </thead>\n",
              "  <tbody>\n",
              "    <tr>\n",
              "      <th>0</th>\n",
              "      <td>-0.987651</td>\n",
              "      <td>-0.975218</td>\n",
              "      <td>-0.790416</td>\n",
              "      <td>-0.645986</td>\n",
              "      <td>-0.009309</td>\n",
              "      <td>-1.322411</td>\n",
              "      <td>-0.785303</td>\n",
              "      <td>NaN</td>\n",
              "      <td>NaN</td>\n",
              "    </tr>\n",
              "    <tr>\n",
              "      <th>1</th>\n",
              "      <td>-0.987651</td>\n",
              "      <td>-0.975218</td>\n",
              "      <td>-0.790416</td>\n",
              "      <td>-1.726191</td>\n",
              "      <td>-0.009309</td>\n",
              "      <td>-1.322411</td>\n",
              "      <td>-0.785303</td>\n",
              "      <td>-1.797693</td>\n",
              "      <td>-0.515686</td>\n",
              "    </tr>\n",
              "    <tr>\n",
              "      <th>2</th>\n",
              "      <td>0.072400</td>\n",
              "      <td>0.097881</td>\n",
              "      <td>0.694210</td>\n",
              "      <td>-1.726191</td>\n",
              "      <td>-0.009309</td>\n",
              "      <td>-1.322411</td>\n",
              "      <td>-0.785303</td>\n",
              "      <td>-1.797693</td>\n",
              "      <td>0.035098</td>\n",
              "    </tr>\n",
              "    <tr>\n",
              "      <th>3</th>\n",
              "      <td>0.072400</td>\n",
              "      <td>0.097881</td>\n",
              "      <td>0.694210</td>\n",
              "      <td>-0.645986</td>\n",
              "      <td>-0.009309</td>\n",
              "      <td>-1.322411</td>\n",
              "      <td>-0.785303</td>\n",
              "      <td>NaN</td>\n",
              "      <td>NaN</td>\n",
              "    </tr>\n",
              "    <tr>\n",
              "      <th>4</th>\n",
              "      <td>1.132450</td>\n",
              "      <td>0.097881</td>\n",
              "      <td>-0.790416</td>\n",
              "      <td>0.434220</td>\n",
              "      <td>-0.009309</td>\n",
              "      <td>-1.322411</td>\n",
              "      <td>-0.785303</td>\n",
              "      <td>1.355655</td>\n",
              "      <td>-0.026962</td>\n",
              "    </tr>\n",
              "  </tbody>\n",
              "</table>\n",
              "</div>"
            ],
            "text/plain": [
              "      Rooms  Bedroom2  Bathroom  ...  Propertycount  YearBuilt  BuildingArea\n",
              "0 -0.987651 -0.975218 -0.790416  ...      -0.785303        NaN           NaN\n",
              "1 -0.987651 -0.975218 -0.790416  ...      -0.785303  -1.797693     -0.515686\n",
              "2  0.072400  0.097881  0.694210  ...      -0.785303  -1.797693      0.035098\n",
              "3  0.072400  0.097881  0.694210  ...      -0.785303        NaN           NaN\n",
              "4  1.132450  0.097881 -0.790416  ...      -0.785303   1.355655     -0.026962\n",
              "\n",
              "[5 rows x 9 columns]"
            ]
          },
          "metadata": {
            "tags": []
          },
          "execution_count": 16
        }
      ]
    },
    {
      "cell_type": "code",
      "metadata": {
        "colab": {
          "base_uri": "https://localhost:8080/"
        },
        "id": "hIGLIdCNGMS2",
        "outputId": "7297f9cb-4fdd-4261-ca86-d7b1a810abbb"
      },
      "source": [
        "df_melb_numerical_scaled.isna().sum()"
      ],
      "execution_count": null,
      "outputs": [
        {
          "output_type": "execute_result",
          "data": {
            "text/plain": [
              "Rooms                      0\n",
              "Bedroom2                   0\n",
              "Bathroom                   0\n",
              "Car                        0\n",
              "PrecioPromedioAirbnb       0\n",
              "Distance                   0\n",
              "Propertycount              0\n",
              "YearBuilt               5307\n",
              "BuildingArea            6378\n",
              "dtype: int64"
            ]
          },
          "metadata": {
            "tags": []
          },
          "execution_count": 17
        }
      ]
    },
    {
      "cell_type": "code",
      "metadata": {
        "id": "G4ClSr_JapCw",
        "colab": {
          "base_uri": "https://localhost:8080/"
        },
        "outputId": "7c42f66d-5995-43d7-f5e0-4334a182ff5f"
      },
      "source": [
        "from sklearn.experimental import enable_iterative_imputer\n",
        "from sklearn.neighbors import KNeighborsRegressor\n",
        "from sklearn.impute import IterativeImputer\n",
        "\n",
        "melb_data_mice = df_melb_numerical_scaled.copy(deep=True)\n",
        "\n",
        "mice_imputer = IterativeImputer(random_state=0, estimator=KNeighborsRegressor())\n",
        "melb_data_mice[['YearBuilt','BuildingArea']] = mice_imputer.fit_transform(\n",
        "    melb_data_mice[['YearBuilt', 'BuildingArea']])"
      ],
      "execution_count": null,
      "outputs": [
        {
          "output_type": "stream",
          "text": [
            "/usr/local/lib/python3.7/dist-packages/sklearn/impute/_iterative.py:638: ConvergenceWarning: [IterativeImputer] Early stopping criterion not reached.\n",
            "  \" reached.\", ConvergenceWarning)\n"
          ],
          "name": "stderr"
        }
      ]
    },
    {
      "cell_type": "code",
      "metadata": {
        "colab": {
          "base_uri": "https://localhost:8080/",
          "height": 424
        },
        "id": "jK1p0P1ObtgK",
        "outputId": "d6f00859-776d-4374-834e-3114cce84727"
      },
      "source": [
        "melb_data_mice"
      ],
      "execution_count": null,
      "outputs": [
        {
          "output_type": "execute_result",
          "data": {
            "text/html": [
              "<div>\n",
              "<style scoped>\n",
              "    .dataframe tbody tr th:only-of-type {\n",
              "        vertical-align: middle;\n",
              "    }\n",
              "\n",
              "    .dataframe tbody tr th {\n",
              "        vertical-align: top;\n",
              "    }\n",
              "\n",
              "    .dataframe thead th {\n",
              "        text-align: right;\n",
              "    }\n",
              "</style>\n",
              "<table border=\"1\" class=\"dataframe\">\n",
              "  <thead>\n",
              "    <tr style=\"text-align: right;\">\n",
              "      <th></th>\n",
              "      <th>Rooms</th>\n",
              "      <th>Bedroom2</th>\n",
              "      <th>Bathroom</th>\n",
              "      <th>Car</th>\n",
              "      <th>PrecioPromedioAirbnb</th>\n",
              "      <th>Distance</th>\n",
              "      <th>Propertycount</th>\n",
              "      <th>YearBuilt</th>\n",
              "      <th>BuildingArea</th>\n",
              "    </tr>\n",
              "  </thead>\n",
              "  <tbody>\n",
              "    <tr>\n",
              "      <th>0</th>\n",
              "      <td>-0.987651</td>\n",
              "      <td>-0.975218</td>\n",
              "      <td>-0.790416</td>\n",
              "      <td>-0.645986</td>\n",
              "      <td>-0.009309</td>\n",
              "      <td>-1.322411</td>\n",
              "      <td>-0.785303</td>\n",
              "      <td>0.885419</td>\n",
              "      <td>0.216624</td>\n",
              "    </tr>\n",
              "    <tr>\n",
              "      <th>1</th>\n",
              "      <td>-0.987651</td>\n",
              "      <td>-0.975218</td>\n",
              "      <td>-0.790416</td>\n",
              "      <td>-1.726191</td>\n",
              "      <td>-0.009309</td>\n",
              "      <td>-1.322411</td>\n",
              "      <td>-0.785303</td>\n",
              "      <td>-1.797693</td>\n",
              "      <td>-0.515686</td>\n",
              "    </tr>\n",
              "    <tr>\n",
              "      <th>2</th>\n",
              "      <td>0.072400</td>\n",
              "      <td>0.097881</td>\n",
              "      <td>0.694210</td>\n",
              "      <td>-1.726191</td>\n",
              "      <td>-0.009309</td>\n",
              "      <td>-1.322411</td>\n",
              "      <td>-0.785303</td>\n",
              "      <td>-1.797693</td>\n",
              "      <td>0.035098</td>\n",
              "    </tr>\n",
              "    <tr>\n",
              "      <th>3</th>\n",
              "      <td>0.072400</td>\n",
              "      <td>0.097881</td>\n",
              "      <td>0.694210</td>\n",
              "      <td>-0.645986</td>\n",
              "      <td>-0.009309</td>\n",
              "      <td>-1.322411</td>\n",
              "      <td>-0.785303</td>\n",
              "      <td>0.885419</td>\n",
              "      <td>0.216624</td>\n",
              "    </tr>\n",
              "    <tr>\n",
              "      <th>4</th>\n",
              "      <td>1.132450</td>\n",
              "      <td>0.097881</td>\n",
              "      <td>-0.790416</td>\n",
              "      <td>0.434220</td>\n",
              "      <td>-0.009309</td>\n",
              "      <td>-1.322411</td>\n",
              "      <td>-0.785303</td>\n",
              "      <td>1.355655</td>\n",
              "      <td>-0.026962</td>\n",
              "    </tr>\n",
              "    <tr>\n",
              "      <th>...</th>\n",
              "      <td>...</td>\n",
              "      <td>...</td>\n",
              "      <td>...</td>\n",
              "      <td>...</td>\n",
              "      <td>...</td>\n",
              "      <td>...</td>\n",
              "      <td>...</td>\n",
              "      <td>...</td>\n",
              "      <td>...</td>\n",
              "    </tr>\n",
              "    <tr>\n",
              "      <th>13436</th>\n",
              "      <td>1.132450</td>\n",
              "      <td>1.170980</td>\n",
              "      <td>0.694210</td>\n",
              "      <td>0.434220</td>\n",
              "      <td>-0.111827</td>\n",
              "      <td>1.142129</td>\n",
              "      <td>-0.015194</td>\n",
              "      <td>0.442844</td>\n",
              "      <td>0.134394</td>\n",
              "    </tr>\n",
              "    <tr>\n",
              "      <th>13437</th>\n",
              "      <td>0.072400</td>\n",
              "      <td>0.097881</td>\n",
              "      <td>0.694210</td>\n",
              "      <td>0.434220</td>\n",
              "      <td>0.930322</td>\n",
              "      <td>-0.576106</td>\n",
              "      <td>-0.246250</td>\n",
              "      <td>0.830097</td>\n",
              "      <td>-0.096780</td>\n",
              "    </tr>\n",
              "    <tr>\n",
              "      <th>13438</th>\n",
              "      <td>0.072400</td>\n",
              "      <td>0.097881</td>\n",
              "      <td>0.694210</td>\n",
              "      <td>2.594631</td>\n",
              "      <td>0.930322</td>\n",
              "      <td>-0.576106</td>\n",
              "      <td>-0.246250</td>\n",
              "      <td>0.885419</td>\n",
              "      <td>0.216624</td>\n",
              "    </tr>\n",
              "    <tr>\n",
              "      <th>13439</th>\n",
              "      <td>1.132450</td>\n",
              "      <td>1.170980</td>\n",
              "      <td>-0.790416</td>\n",
              "      <td>3.674836</td>\n",
              "      <td>0.930322</td>\n",
              "      <td>-0.576106</td>\n",
              "      <td>-0.246250</td>\n",
              "      <td>-1.244474</td>\n",
              "      <td>0.089401</td>\n",
              "    </tr>\n",
              "    <tr>\n",
              "      <th>13440</th>\n",
              "      <td>1.132450</td>\n",
              "      <td>1.170980</td>\n",
              "      <td>-0.790416</td>\n",
              "      <td>-0.645986</td>\n",
              "      <td>0.068162</td>\n",
              "      <td>-0.662886</td>\n",
              "      <td>-0.209034</td>\n",
              "      <td>-1.244474</td>\n",
              "      <td>-0.259688</td>\n",
              "    </tr>\n",
              "  </tbody>\n",
              "</table>\n",
              "<p>13441 rows × 9 columns</p>\n",
              "</div>"
            ],
            "text/plain": [
              "          Rooms  Bedroom2  Bathroom  ...  Propertycount  YearBuilt  BuildingArea\n",
              "0     -0.987651 -0.975218 -0.790416  ...      -0.785303   0.885419      0.216624\n",
              "1     -0.987651 -0.975218 -0.790416  ...      -0.785303  -1.797693     -0.515686\n",
              "2      0.072400  0.097881  0.694210  ...      -0.785303  -1.797693      0.035098\n",
              "3      0.072400  0.097881  0.694210  ...      -0.785303   0.885419      0.216624\n",
              "4      1.132450  0.097881 -0.790416  ...      -0.785303   1.355655     -0.026962\n",
              "...         ...       ...       ...  ...            ...        ...           ...\n",
              "13436  1.132450  1.170980  0.694210  ...      -0.015194   0.442844      0.134394\n",
              "13437  0.072400  0.097881  0.694210  ...      -0.246250   0.830097     -0.096780\n",
              "13438  0.072400  0.097881  0.694210  ...      -0.246250   0.885419      0.216624\n",
              "13439  1.132450  1.170980 -0.790416  ...      -0.246250  -1.244474      0.089401\n",
              "13440  1.132450  1.170980 -0.790416  ...      -0.209034  -1.244474     -0.259688\n",
              "\n",
              "[13441 rows x 9 columns]"
            ]
          },
          "metadata": {
            "tags": []
          },
          "execution_count": 19
        }
      ]
    },
    {
      "cell_type": "code",
      "metadata": {
        "id": "PMK1ktqYQTJK"
      },
      "source": [
        "## Variable YearBuilt original sin NaN\n",
        "melb_year_build_orig = melb_df.YearBuilt.dropna().to_frame()\n",
        "melb_year_build_orig['No Imputation'] = 'Original'"
      ],
      "execution_count": null,
      "outputs": []
    },
    {
      "cell_type": "code",
      "metadata": {
        "id": "lwx0SjCddIs1"
      },
      "source": [
        "## Variable BuildingArea original sin NaN\n",
        "melb_build_area_orig = melb_df.BuildingArea.dropna().to_frame()\n",
        "melb_build_area_orig['No Imputation'] = 'Original'"
      ],
      "execution_count": null,
      "outputs": []
    },
    {
      "cell_type": "code",
      "metadata": {
        "id": "uEnt-duYG9_A"
      },
      "source": [
        "## Variable BuildingArea luego de escalar e imputar\n",
        "mice_build_area_esc = melb_data_mice.BuildingArea.to_frame()\n",
        "mice_build_area_esc['Imputation'] = 'KNN over BuildingArea'"
      ],
      "execution_count": null,
      "outputs": []
    },
    {
      "cell_type": "code",
      "metadata": {
        "id": "P0pwDLyYdOpC"
      },
      "source": [
        "## Variable YearBuilt luego de escalar e imputar\n",
        "mice_year_built_esc = melb_data_mice.YearBuilt.to_frame()\n",
        "mice_year_built_esc['Imputation'] = 'KNN over YearBuilt'"
      ],
      "execution_count": null,
      "outputs": []
    },
    {
      "cell_type": "code",
      "metadata": {
        "colab": {
          "base_uri": "https://localhost:8080/",
          "height": 428
        },
        "id": "JgYf6u7vI124",
        "outputId": "06ec50fd-c0fe-43cf-c5b5-0331f4d2bbae"
      },
      "source": [
        "fig, ax = plt.subplots(1,2, figsize=(20,6))\n",
        "#plt.xlim(-1, 1)\n",
        "sns.kdeplot(data=melb_year_build_orig, x='YearBuilt', hue='No Imputation', ax=ax[0], )\n",
        "sns.kdeplot(data=melb_build_area_orig, x='BuildingArea', hue='No Imputation', ax=ax[1])"
      ],
      "execution_count": null,
      "outputs": [
        {
          "output_type": "execute_result",
          "data": {
            "text/plain": [
              "<matplotlib.axes._subplots.AxesSubplot at 0x7fcbb44cb6d0>"
            ]
          },
          "metadata": {
            "tags": []
          },
          "execution_count": 45
        },
        {
          "output_type": "display_data",
          "data": {
            "image/png": "[encoded data removed]",
            "text/plain": [
              "<Figure size 1440x432 with 2 Axes>"
            ]
          },
          "metadata": {
            "tags": [],
            "needs_background": "light"
          }
        }
      ]
    },
    {
      "cell_type": "code",
      "metadata": {
        "colab": {
          "base_uri": "https://localhost:8080/",
          "height": 435
        },
        "id": "IunNREzNehL8",
        "outputId": "529aafb8-be8f-476a-8dba-fa674047c601"
      },
      "source": [
        "fig, ax = plt.subplots(1,2, figsize=(20,6))\n",
        "plt.xlim(-5, 5)\n",
        "sns.kdeplot(data=mice_year_built_esc, x='YearBuilt', hue='Imputation', ax=ax[0])\n",
        "sns.kdeplot(data=mice_build_area_esc, x='BuildingArea', hue='Imputation', ax=ax[1])"
      ],
      "execution_count": null,
      "outputs": [
        {
          "output_type": "execute_result",
          "data": {
            "text/plain": [
              "<matplotlib.axes._subplots.AxesSubplot at 0x7fcbb4a12310>"
            ]
          },
          "metadata": {
            "tags": []
          },
          "execution_count": 50
        },
        {
          "output_type": "display_data",
          "data": {
            "image/png": "[encoded data removed]",
            "text/plain": [
              "<Figure size 1440x432 with 2 Axes>"
            ]
          },
          "metadata": {
            "tags": [],
            "needs_background": "light"
          }
        }
      ]
    },
    {
      "cell_type": "code",
      "metadata": {
        "id": "YqEZrrSMfPD2"
      },
      "source": [
        ""
      ],
      "execution_count": null,
      "outputs": []
    },
    {
      "cell_type": "code",
      "metadata": {
        "colab": {
          "base_uri": "https://localhost:8080/"
        },
        "id": "azOeYZ3PF3uW",
        "outputId": "4d9e9bf6-0683-4103-e733-be8a2ceb5f26"
      },
      "source": [
        "melb_data_mice.isna().sum()"
      ],
      "execution_count": null,
      "outputs": [
        {
          "output_type": "execute_result",
          "data": {
            "text/plain": [
              "Rooms                   0\n",
              "Bedroom2                0\n",
              "Bathroom                0\n",
              "Car                     0\n",
              "PrecioPromedioAirbnb    0\n",
              "Distance                0\n",
              "Propertycount           0\n",
              "YearBuilt               0\n",
              "BuildingArea            0\n",
              "dtype: int64"
            ]
          },
          "metadata": {
            "tags": []
          },
          "execution_count": 26
        }
      ]
    },
    {
      "cell_type": "code",
      "metadata": {
        "id": "yCiXTUA4LG5a"
      },
      "source": [
        "melb_df_final = pd.concat([encoded_df,melb_data_mice], axis=1)"
      ],
      "execution_count": null,
      "outputs": []
    },
    {
      "cell_type": "code",
      "metadata": {
        "id": "w4g1c58T9-Mw"
      },
      "source": [
        ""
      ],
      "execution_count": null,
      "outputs": []
    },
    {
      "cell_type": "markdown",
      "metadata": {
        "id": "Q7SiSez_amzJ"
      },
      "source": [
        "https://towardsdatascience.com/pca-using-python-scikit-learn-e653f8989e60"
      ]
    },
    {
      "cell_type": "markdown",
      "metadata": {
        "id": "NBN7-5OIxjJW"
      },
      "source": [
        "## Ejercicio 3: Reducción de dimensionalidad.\n",
        "\n",
        "Utilizando la matriz obtenida en el ejercicio anterior:\n",
        "1. Aplique `PCA` para obtener $n$ componentes principales de la matriz, donde `n = min(20, X.shape[0])`. ¿Es necesario estandarizar o escalar los datos?\n",
        "2. Grafique la varianza capturada por los primeros $n$ componentes principales, para cada $n$.\n",
        "3. En base al gráfico, seleccione las primeras $m$ columnas de la matriz transformada para agregar como nuevas características al conjunto de datos."
      ]
    },
    {
      "cell_type": "code",
      "metadata": {
        "id": "xsZ2P_h9hjg3"
      },
      "source": [
        "from sklearn.decomposition import PCA\n",
        "pca = PCA().fit_transform(melb_df_final)"
      ],
      "execution_count": null,
      "outputs": []
    },
    {
      "cell_type": "code",
      "metadata": {
        "colab": {
          "base_uri": "https://localhost:8080/"
        },
        "id": "9luNDJxPTa7S",
        "outputId": "4ab49f61-9468-44f7-9046-beaca46411a6"
      },
      "source": [
        "pca.shape"
      ],
      "execution_count": null,
      "outputs": [
        {
          "output_type": "execute_result",
          "data": {
            "text/plain": [
              "(13441, 481)"
            ]
          },
          "metadata": {
            "tags": []
          },
          "execution_count": 53
        }
      ]
    },
    {
      "cell_type": "code",
      "metadata": {
        "id": "81aQzO6sk2Y6"
      },
      "source": [
        "ex_variance=np.var(pca,axis=0)\n",
        "ex_variance_ratio = ex_variance/np.sum(ex_variance)"
      ],
      "execution_count": null,
      "outputs": []
    },
    {
      "cell_type": "markdown",
      "metadata": {
        "id": "DO0Be0q2m7Kk"
      },
      "source": [
        "https://etav.github.io/python/scikit_pca.html"
      ]
    },
    {
      "cell_type": "markdown",
      "metadata": {
        "id": "RS05nLZmNLpi"
      },
      "source": [
        "Antes de aplicar PCA es necesario estandarizar siempre ya que el analisis de componentes principales es un método de reduccion de variables que identifica aquellas direcciones en las que la varianza es mayor. Como la varianza de una variable se mide en su misma escala elevada al cuadrado, si antes de calcular las componentes no se estandarizan todas las variables para que tengan media 0 y desviación estándar 1, aquellas variables cuya escala sea mayor dominarán al resto. De ahí que sea recomendable estandarizar siempre los datos. "
      ]
    },
    {
      "cell_type": "markdown",
      "metadata": {
        "id": "KeaGQV49myZu"
      },
      "source": [
        "#### Paso a paso"
      ]
    },
    {
      "cell_type": "code",
      "metadata": {
        "id": "mwEkPbT0mwHu"
      },
      "source": [
        "covar_matrix = PCA(n_components = 481)"
      ],
      "execution_count": null,
      "outputs": []
    },
    {
      "cell_type": "code",
      "metadata": {
        "id": "sTPVnA21mx7O"
      },
      "source": [
        "covar_matrix.fit(melb_df_final)\n",
        "variance = covar_matrix.explained_variance_ratio_ "
      ],
      "execution_count": null,
      "outputs": []
    },
    {
      "cell_type": "code",
      "metadata": {
        "id": "Gm40ycRenER3"
      },
      "source": [
        "var=np.cumsum(np.round(covar_matrix.explained_variance_ratio_, decimals=3)*100)"
      ],
      "execution_count": null,
      "outputs": []
    },
    {
      "cell_type": "code",
      "metadata": {
        "colab": {
          "base_uri": "https://localhost:8080/",
          "height": 339
        },
        "id": "hfoh_I-znN36",
        "outputId": "809625fa-6eb7-4265-a53e-d206013b5491"
      },
      "source": [
        "plt.ylabel('% Variance Explained')\n",
        "plt.xlabel('# of Features')\n",
        "plt.title('PCA Analysis')\n",
        "plt.ylim(30,100.5)\n",
        "plt.style.context('seaborn-whitegrid')\n",
        "\n",
        "\n",
        "plt.plot(var)"
      ],
      "execution_count": null,
      "outputs": [
        {
          "output_type": "execute_result",
          "data": {
            "text/plain": [
              "[<matplotlib.lines.Line2D at 0x7fcbb4a35d10>]"
            ]
          },
          "metadata": {
            "tags": []
          },
          "execution_count": 59
        },
        {
          "output_type": "display_data",
          "data": {
            "image/png": "[encoded data removed]",
            "text/plain": [
              "<Figure size 432x288 with 1 Axes>"
            ]
          },
          "metadata": {
            "tags": [],
            "needs_background": "light"
          }
        }
      ]
    },
    {
      "cell_type": "markdown",
      "metadata": {
        "id": "S3RcZQDJzuE6"
      },
      "source": [
        "Elegimos las primeras 88 columnas, ya que contienen el 97% de la varianza total, luego alcanza el plateau."
      ]
    },
    {
      "cell_type": "code",
      "metadata": {
        "id": "PlVS-IbZwkl8",
        "colab": {
          "base_uri": "https://localhost:8080/",
          "height": 256
        },
        "outputId": "2626339b-1093-46d2-d4c6-84e88e6999d5"
      },
      "source": [
        "processed_melb_df = pd.DataFrame(data=pca[:,:87])\n",
        "processed_melb_df.head()"
      ],
      "execution_count": null,
      "outputs": [
        {
          "output_type": "execute_result",
          "data": {
            "text/html": [
              "<div>\n",
              "<style scoped>\n",
              "    .dataframe tbody tr th:only-of-type {\n",
              "        vertical-align: middle;\n",
              "    }\n",
              "\n",
              "    .dataframe tbody tr th {\n",
              "        vertical-align: top;\n",
              "    }\n",
              "\n",
              "    .dataframe thead th {\n",
              "        text-align: right;\n",
              "    }\n",
              "</style>\n",
              "<table border=\"1\" class=\"dataframe\">\n",
              "  <thead>\n",
              "    <tr style=\"text-align: right;\">\n",
              "      <th></th>\n",
              "      <th>0</th>\n",
              "      <th>1</th>\n",
              "      <th>2</th>\n",
              "      <th>3</th>\n",
              "      <th>4</th>\n",
              "      <th>5</th>\n",
              "      <th>6</th>\n",
              "      <th>7</th>\n",
              "      <th>8</th>\n",
              "      <th>9</th>\n",
              "      <th>10</th>\n",
              "      <th>11</th>\n",
              "      <th>12</th>\n",
              "      <th>13</th>\n",
              "      <th>14</th>\n",
              "      <th>15</th>\n",
              "      <th>16</th>\n",
              "      <th>17</th>\n",
              "      <th>18</th>\n",
              "      <th>19</th>\n",
              "      <th>20</th>\n",
              "      <th>21</th>\n",
              "      <th>22</th>\n",
              "      <th>23</th>\n",
              "      <th>24</th>\n",
              "      <th>25</th>\n",
              "      <th>26</th>\n",
              "      <th>27</th>\n",
              "      <th>28</th>\n",
              "      <th>29</th>\n",
              "      <th>30</th>\n",
              "      <th>31</th>\n",
              "      <th>32</th>\n",
              "      <th>33</th>\n",
              "      <th>34</th>\n",
              "      <th>35</th>\n",
              "      <th>36</th>\n",
              "      <th>37</th>\n",
              "      <th>38</th>\n",
              "      <th>39</th>\n",
              "      <th>...</th>\n",
              "      <th>47</th>\n",
              "      <th>48</th>\n",
              "      <th>49</th>\n",
              "      <th>50</th>\n",
              "      <th>51</th>\n",
              "      <th>52</th>\n",
              "      <th>53</th>\n",
              "      <th>54</th>\n",
              "      <th>55</th>\n",
              "      <th>56</th>\n",
              "      <th>57</th>\n",
              "      <th>58</th>\n",
              "      <th>59</th>\n",
              "      <th>60</th>\n",
              "      <th>61</th>\n",
              "      <th>62</th>\n",
              "      <th>63</th>\n",
              "      <th>64</th>\n",
              "      <th>65</th>\n",
              "      <th>66</th>\n",
              "      <th>67</th>\n",
              "      <th>68</th>\n",
              "      <th>69</th>\n",
              "      <th>70</th>\n",
              "      <th>71</th>\n",
              "      <th>72</th>\n",
              "      <th>73</th>\n",
              "      <th>74</th>\n",
              "      <th>75</th>\n",
              "      <th>76</th>\n",
              "      <th>77</th>\n",
              "      <th>78</th>\n",
              "      <th>79</th>\n",
              "      <th>80</th>\n",
              "      <th>81</th>\n",
              "      <th>82</th>\n",
              "      <th>83</th>\n",
              "      <th>84</th>\n",
              "      <th>85</th>\n",
              "      <th>86</th>\n",
              "    </tr>\n",
              "  </thead>\n",
              "  <tbody>\n",
              "    <tr>\n",
              "      <th>0</th>\n",
              "      <td>-1.821557</td>\n",
              "      <td>-0.444794</td>\n",
              "      <td>-0.685471</td>\n",
              "      <td>0.490321</td>\n",
              "      <td>-0.565186</td>\n",
              "      <td>0.267297</td>\n",
              "      <td>0.845927</td>\n",
              "      <td>-0.443765</td>\n",
              "      <td>0.707117</td>\n",
              "      <td>-0.559314</td>\n",
              "      <td>-0.606248</td>\n",
              "      <td>-0.001820</td>\n",
              "      <td>-0.110282</td>\n",
              "      <td>-0.088054</td>\n",
              "      <td>0.311657</td>\n",
              "      <td>-0.006170</td>\n",
              "      <td>0.529354</td>\n",
              "      <td>0.449718</td>\n",
              "      <td>0.061464</td>\n",
              "      <td>-0.020577</td>\n",
              "      <td>-0.018113</td>\n",
              "      <td>-0.245175</td>\n",
              "      <td>-0.065491</td>\n",
              "      <td>0.109852</td>\n",
              "      <td>0.028493</td>\n",
              "      <td>0.003698</td>\n",
              "      <td>0.009033</td>\n",
              "      <td>-0.013122</td>\n",
              "      <td>-0.012992</td>\n",
              "      <td>-0.078789</td>\n",
              "      <td>-0.046889</td>\n",
              "      <td>-0.079875</td>\n",
              "      <td>0.016385</td>\n",
              "      <td>0.007456</td>\n",
              "      <td>0.037522</td>\n",
              "      <td>-0.096864</td>\n",
              "      <td>0.024623</td>\n",
              "      <td>0.061762</td>\n",
              "      <td>-0.003236</td>\n",
              "      <td>-0.077995</td>\n",
              "      <td>...</td>\n",
              "      <td>0.030399</td>\n",
              "      <td>-0.018889</td>\n",
              "      <td>0.014332</td>\n",
              "      <td>0.017434</td>\n",
              "      <td>-0.035035</td>\n",
              "      <td>-0.042253</td>\n",
              "      <td>-0.076321</td>\n",
              "      <td>0.013822</td>\n",
              "      <td>0.000899</td>\n",
              "      <td>-0.024239</td>\n",
              "      <td>0.014811</td>\n",
              "      <td>-0.005650</td>\n",
              "      <td>0.017172</td>\n",
              "      <td>0.040803</td>\n",
              "      <td>0.028580</td>\n",
              "      <td>-0.042655</td>\n",
              "      <td>-0.004464</td>\n",
              "      <td>0.005151</td>\n",
              "      <td>0.003280</td>\n",
              "      <td>-0.007525</td>\n",
              "      <td>-0.004415</td>\n",
              "      <td>-0.005908</td>\n",
              "      <td>0.009493</td>\n",
              "      <td>0.004292</td>\n",
              "      <td>0.005303</td>\n",
              "      <td>0.006336</td>\n",
              "      <td>0.002871</td>\n",
              "      <td>-0.002694</td>\n",
              "      <td>-0.003434</td>\n",
              "      <td>-0.001745</td>\n",
              "      <td>-0.012142</td>\n",
              "      <td>0.031185</td>\n",
              "      <td>-0.166599</td>\n",
              "      <td>0.035932</td>\n",
              "      <td>-0.174104</td>\n",
              "      <td>0.095717</td>\n",
              "      <td>-0.039459</td>\n",
              "      <td>0.009610</td>\n",
              "      <td>0.021972</td>\n",
              "      <td>0.001422</td>\n",
              "    </tr>\n",
              "    <tr>\n",
              "      <th>1</th>\n",
              "      <td>-2.367708</td>\n",
              "      <td>-0.170635</td>\n",
              "      <td>-2.349807</td>\n",
              "      <td>-1.027666</td>\n",
              "      <td>0.692563</td>\n",
              "      <td>-0.330422</td>\n",
              "      <td>-0.202039</td>\n",
              "      <td>0.045194</td>\n",
              "      <td>0.872314</td>\n",
              "      <td>-0.487898</td>\n",
              "      <td>-0.268634</td>\n",
              "      <td>-0.031850</td>\n",
              "      <td>0.007391</td>\n",
              "      <td>-0.037367</td>\n",
              "      <td>0.340731</td>\n",
              "      <td>-0.005894</td>\n",
              "      <td>0.513153</td>\n",
              "      <td>0.420405</td>\n",
              "      <td>0.022955</td>\n",
              "      <td>0.025493</td>\n",
              "      <td>0.021166</td>\n",
              "      <td>-0.232884</td>\n",
              "      <td>-0.073189</td>\n",
              "      <td>0.089073</td>\n",
              "      <td>0.016194</td>\n",
              "      <td>-0.001879</td>\n",
              "      <td>0.004405</td>\n",
              "      <td>0.011738</td>\n",
              "      <td>-0.001697</td>\n",
              "      <td>-0.093749</td>\n",
              "      <td>-0.052979</td>\n",
              "      <td>-0.062777</td>\n",
              "      <td>0.001123</td>\n",
              "      <td>-0.005289</td>\n",
              "      <td>0.033737</td>\n",
              "      <td>-0.107093</td>\n",
              "      <td>0.029299</td>\n",
              "      <td>0.068475</td>\n",
              "      <td>0.000383</td>\n",
              "      <td>-0.055401</td>\n",
              "      <td>...</td>\n",
              "      <td>0.029718</td>\n",
              "      <td>-0.019990</td>\n",
              "      <td>0.007939</td>\n",
              "      <td>0.013723</td>\n",
              "      <td>-0.046991</td>\n",
              "      <td>-0.042463</td>\n",
              "      <td>-0.058624</td>\n",
              "      <td>0.019942</td>\n",
              "      <td>0.008936</td>\n",
              "      <td>-0.013734</td>\n",
              "      <td>0.002594</td>\n",
              "      <td>-0.005346</td>\n",
              "      <td>0.004509</td>\n",
              "      <td>0.035715</td>\n",
              "      <td>0.029952</td>\n",
              "      <td>-0.041142</td>\n",
              "      <td>-0.002356</td>\n",
              "      <td>0.011297</td>\n",
              "      <td>0.014991</td>\n",
              "      <td>-0.000059</td>\n",
              "      <td>-0.009221</td>\n",
              "      <td>-0.007458</td>\n",
              "      <td>0.008983</td>\n",
              "      <td>-0.000557</td>\n",
              "      <td>-0.002572</td>\n",
              "      <td>0.019789</td>\n",
              "      <td>-0.001969</td>\n",
              "      <td>-0.003720</td>\n",
              "      <td>-0.008081</td>\n",
              "      <td>0.007292</td>\n",
              "      <td>-0.022465</td>\n",
              "      <td>0.033121</td>\n",
              "      <td>-0.158644</td>\n",
              "      <td>0.037699</td>\n",
              "      <td>-0.177623</td>\n",
              "      <td>0.090517</td>\n",
              "      <td>-0.036183</td>\n",
              "      <td>0.004916</td>\n",
              "      <td>0.026813</td>\n",
              "      <td>0.003310</td>\n",
              "    </tr>\n",
              "    <tr>\n",
              "      <th>2</th>\n",
              "      <td>-0.540339</td>\n",
              "      <td>0.333028</td>\n",
              "      <td>-2.876554</td>\n",
              "      <td>-0.845228</td>\n",
              "      <td>0.026232</td>\n",
              "      <td>-0.817699</td>\n",
              "      <td>-0.375888</td>\n",
              "      <td>0.319769</td>\n",
              "      <td>0.986357</td>\n",
              "      <td>-0.482600</td>\n",
              "      <td>-0.031682</td>\n",
              "      <td>-0.089086</td>\n",
              "      <td>-0.101005</td>\n",
              "      <td>-0.075786</td>\n",
              "      <td>0.333632</td>\n",
              "      <td>-0.053555</td>\n",
              "      <td>0.497043</td>\n",
              "      <td>0.394309</td>\n",
              "      <td>0.018919</td>\n",
              "      <td>0.040317</td>\n",
              "      <td>0.005835</td>\n",
              "      <td>-0.255254</td>\n",
              "      <td>-0.052494</td>\n",
              "      <td>0.068648</td>\n",
              "      <td>0.010445</td>\n",
              "      <td>0.010053</td>\n",
              "      <td>0.013986</td>\n",
              "      <td>0.011134</td>\n",
              "      <td>0.000690</td>\n",
              "      <td>-0.095652</td>\n",
              "      <td>-0.052284</td>\n",
              "      <td>-0.058487</td>\n",
              "      <td>0.001224</td>\n",
              "      <td>-0.007694</td>\n",
              "      <td>0.031911</td>\n",
              "      <td>-0.112678</td>\n",
              "      <td>0.030119</td>\n",
              "      <td>0.069399</td>\n",
              "      <td>0.009846</td>\n",
              "      <td>-0.054739</td>\n",
              "      <td>...</td>\n",
              "      <td>0.027915</td>\n",
              "      <td>-0.019978</td>\n",
              "      <td>0.011017</td>\n",
              "      <td>0.012615</td>\n",
              "      <td>-0.044613</td>\n",
              "      <td>-0.043295</td>\n",
              "      <td>-0.057153</td>\n",
              "      <td>0.017395</td>\n",
              "      <td>0.006289</td>\n",
              "      <td>-0.010666</td>\n",
              "      <td>0.001681</td>\n",
              "      <td>-0.002561</td>\n",
              "      <td>0.004695</td>\n",
              "      <td>0.037969</td>\n",
              "      <td>0.024985</td>\n",
              "      <td>-0.044963</td>\n",
              "      <td>-0.002429</td>\n",
              "      <td>0.004487</td>\n",
              "      <td>0.012996</td>\n",
              "      <td>-0.001187</td>\n",
              "      <td>-0.010549</td>\n",
              "      <td>-0.006403</td>\n",
              "      <td>0.012051</td>\n",
              "      <td>0.002757</td>\n",
              "      <td>0.000129</td>\n",
              "      <td>0.018713</td>\n",
              "      <td>-0.000809</td>\n",
              "      <td>0.001587</td>\n",
              "      <td>-0.011989</td>\n",
              "      <td>0.006455</td>\n",
              "      <td>-0.023591</td>\n",
              "      <td>0.033443</td>\n",
              "      <td>-0.158451</td>\n",
              "      <td>0.039309</td>\n",
              "      <td>-0.180916</td>\n",
              "      <td>0.087495</td>\n",
              "      <td>-0.035056</td>\n",
              "      <td>0.002370</td>\n",
              "      <td>0.023752</td>\n",
              "      <td>0.003177</td>\n",
              "    </tr>\n",
              "    <tr>\n",
              "      <th>3</th>\n",
              "      <td>-0.081844</td>\n",
              "      <td>0.029136</td>\n",
              "      <td>-1.198634</td>\n",
              "      <td>0.615810</td>\n",
              "      <td>-1.155626</td>\n",
              "      <td>-0.182378</td>\n",
              "      <td>0.272119</td>\n",
              "      <td>-0.516228</td>\n",
              "      <td>0.790814</td>\n",
              "      <td>-0.555517</td>\n",
              "      <td>-0.419058</td>\n",
              "      <td>-0.046011</td>\n",
              "      <td>-0.224869</td>\n",
              "      <td>-0.123175</td>\n",
              "      <td>0.305492</td>\n",
              "      <td>-0.047259</td>\n",
              "      <td>0.514028</td>\n",
              "      <td>0.423466</td>\n",
              "      <td>0.053038</td>\n",
              "      <td>-0.005788</td>\n",
              "      <td>-0.030579</td>\n",
              "      <td>-0.267640</td>\n",
              "      <td>-0.047306</td>\n",
              "      <td>0.092616</td>\n",
              "      <td>0.023511</td>\n",
              "      <td>0.015760</td>\n",
              "      <td>0.014481</td>\n",
              "      <td>-0.014915</td>\n",
              "      <td>-0.009026</td>\n",
              "      <td>-0.080203</td>\n",
              "      <td>-0.046407</td>\n",
              "      <td>-0.077322</td>\n",
              "      <td>0.016086</td>\n",
              "      <td>0.005661</td>\n",
              "      <td>0.036390</td>\n",
              "      <td>-0.102679</td>\n",
              "      <td>0.026786</td>\n",
              "      <td>0.064069</td>\n",
              "      <td>0.005781</td>\n",
              "      <td>-0.077550</td>\n",
              "      <td>...</td>\n",
              "      <td>0.028516</td>\n",
              "      <td>-0.017821</td>\n",
              "      <td>0.017536</td>\n",
              "      <td>0.017278</td>\n",
              "      <td>-0.033485</td>\n",
              "      <td>-0.042915</td>\n",
              "      <td>-0.075142</td>\n",
              "      <td>0.010295</td>\n",
              "      <td>-0.001316</td>\n",
              "      <td>-0.022166</td>\n",
              "      <td>0.013025</td>\n",
              "      <td>-0.003325</td>\n",
              "      <td>0.017338</td>\n",
              "      <td>0.042712</td>\n",
              "      <td>0.024653</td>\n",
              "      <td>-0.046281</td>\n",
              "      <td>-0.004629</td>\n",
              "      <td>-0.001337</td>\n",
              "      <td>0.002257</td>\n",
              "      <td>-0.008389</td>\n",
              "      <td>-0.006867</td>\n",
              "      <td>-0.003732</td>\n",
              "      <td>0.012942</td>\n",
              "      <td>0.007998</td>\n",
              "      <td>0.008570</td>\n",
              "      <td>0.006186</td>\n",
              "      <td>0.003898</td>\n",
              "      <td>0.002213</td>\n",
              "      <td>-0.006684</td>\n",
              "      <td>-0.002174</td>\n",
              "      <td>-0.012397</td>\n",
              "      <td>0.031043</td>\n",
              "      <td>-0.166080</td>\n",
              "      <td>0.037115</td>\n",
              "      <td>-0.175514</td>\n",
              "      <td>0.091250</td>\n",
              "      <td>-0.035370</td>\n",
              "      <td>0.006888</td>\n",
              "      <td>0.021822</td>\n",
              "      <td>0.001609</td>\n",
              "    </tr>\n",
              "    <tr>\n",
              "      <th>4</th>\n",
              "      <td>0.219040</td>\n",
              "      <td>-0.241701</td>\n",
              "      <td>-0.592575</td>\n",
              "      <td>0.350476</td>\n",
              "      <td>-0.674304</td>\n",
              "      <td>0.755907</td>\n",
              "      <td>1.098144</td>\n",
              "      <td>-1.606551</td>\n",
              "      <td>0.089675</td>\n",
              "      <td>-0.672967</td>\n",
              "      <td>-0.160040</td>\n",
              "      <td>-0.047620</td>\n",
              "      <td>-0.162459</td>\n",
              "      <td>-0.143207</td>\n",
              "      <td>0.341875</td>\n",
              "      <td>-0.034336</td>\n",
              "      <td>0.531674</td>\n",
              "      <td>0.485352</td>\n",
              "      <td>0.081958</td>\n",
              "      <td>-0.076242</td>\n",
              "      <td>-0.045255</td>\n",
              "      <td>-0.121497</td>\n",
              "      <td>0.027853</td>\n",
              "      <td>0.264938</td>\n",
              "      <td>0.754534</td>\n",
              "      <td>0.036549</td>\n",
              "      <td>-0.046706</td>\n",
              "      <td>-0.036739</td>\n",
              "      <td>-0.028472</td>\n",
              "      <td>-0.063664</td>\n",
              "      <td>-0.041732</td>\n",
              "      <td>-0.104343</td>\n",
              "      <td>0.036622</td>\n",
              "      <td>0.019665</td>\n",
              "      <td>0.043713</td>\n",
              "      <td>-0.093638</td>\n",
              "      <td>0.020031</td>\n",
              "      <td>0.059508</td>\n",
              "      <td>0.011794</td>\n",
              "      <td>-0.084221</td>\n",
              "      <td>...</td>\n",
              "      <td>0.033053</td>\n",
              "      <td>-0.021173</td>\n",
              "      <td>0.028705</td>\n",
              "      <td>0.013707</td>\n",
              "      <td>-0.037429</td>\n",
              "      <td>-0.036700</td>\n",
              "      <td>-0.083109</td>\n",
              "      <td>0.010221</td>\n",
              "      <td>0.003761</td>\n",
              "      <td>-0.026134</td>\n",
              "      <td>0.018739</td>\n",
              "      <td>-0.012242</td>\n",
              "      <td>0.020411</td>\n",
              "      <td>0.037365</td>\n",
              "      <td>0.022606</td>\n",
              "      <td>-0.045518</td>\n",
              "      <td>-0.009883</td>\n",
              "      <td>0.004112</td>\n",
              "      <td>0.000745</td>\n",
              "      <td>-0.015943</td>\n",
              "      <td>-0.004617</td>\n",
              "      <td>-0.005360</td>\n",
              "      <td>0.014369</td>\n",
              "      <td>0.001168</td>\n",
              "      <td>0.007844</td>\n",
              "      <td>0.002986</td>\n",
              "      <td>0.002520</td>\n",
              "      <td>-0.003909</td>\n",
              "      <td>0.003186</td>\n",
              "      <td>-0.007228</td>\n",
              "      <td>-0.000496</td>\n",
              "      <td>0.024465</td>\n",
              "      <td>-0.168768</td>\n",
              "      <td>0.033933</td>\n",
              "      <td>-0.172148</td>\n",
              "      <td>0.100928</td>\n",
              "      <td>-0.037109</td>\n",
              "      <td>0.012288</td>\n",
              "      <td>0.025391</td>\n",
              "      <td>0.002370</td>\n",
              "    </tr>\n",
              "  </tbody>\n",
              "</table>\n",
              "<p>5 rows × 87 columns</p>\n",
              "</div>"
            ],
            "text/plain": [
              "         0         1         2   ...        84        85        86\n",
              "0 -1.821557 -0.444794 -0.685471  ...  0.009610  0.021972  0.001422\n",
              "1 -2.367708 -0.170635 -2.349807  ...  0.004916  0.026813  0.003310\n",
              "2 -0.540339  0.333028 -2.876554  ...  0.002370  0.023752  0.003177\n",
              "3 -0.081844  0.029136 -1.198634  ...  0.006888  0.021822  0.001609\n",
              "4  0.219040 -0.241701 -0.592575  ...  0.012288  0.025391  0.002370\n",
              "\n",
              "[5 rows x 87 columns]"
            ]
          },
          "metadata": {
            "tags": []
          },
          "execution_count": 60
        }
      ]
    },
    {
      "cell_type": "code",
      "metadata": {
        "id": "oFOMPtXqVwRS"
      },
      "source": [
        "processed_melb_df.to_csv(\"melb_pca.csv\")"
      ],
      "execution_count": null,
      "outputs": []
    },
    {
      "cell_type": "markdown",
      "metadata": {
        "id": "WrZTYmG_ZyDy"
      },
      "source": [
        "## Ejercicio 4: Composición del resultado\n",
        "\n",
        "Transformar nuevamente el conjunto de datos procesado en un `pandas.DataFrame` y guardarlo en un archivo.\n",
        "\n",
        "Para eso, será necesario recordar el nombre original de cada columna de la matriz, en el orden correcto. Tener en cuenta:\n",
        "1. El método `OneHotEncoder.get_feature_names` o el atributo `OneHotEncoder.categories_` permiten obtener una lista con los valores de la categoría que le corresponde a cada índice de la matriz.\n",
        "2. Ninguno de los métodos aplicados intercambia de lugar las columnas o las filas de la matriz."
      ]
    },
    {
      "cell_type": "code",
      "metadata": {
        "id": "DfchYPgTxvQ4",
        "colab": {
          "base_uri": "https://localhost:8080/",
          "height": 280
        },
        "outputId": "5ae9cbd0-a28d-4f17-8bc7-0232953eb1bf"
      },
      "source": [
        "## Small example\n",
        "from sklearn.decomposition import PCA\n",
        "from sklearn.preprocessing import OneHotEncoder\n",
        "\n",
        "## If we process our data with the following steps:\n",
        "categorical_cols = ['Type', 'Regionname']\n",
        "numerical_cols = ['Rooms', 'Distance']\n",
        "new_columns = []\n",
        "\n",
        "# Step 1: encode categorical columns\n",
        "encoder = OneHotEncoder(handle_unknown='ignore', sparse=False)\n",
        "X_cat = encoder.fit_transform(melb_df[categorical_cols])\n",
        "for col, col_values in zip(categorical_cols, encoder.categories_):\n",
        "  for col_value in col_values:\n",
        "    new_columns.append('{}={}'.format(col, col_value))\n",
        "print(\"Matrix has shape {}, with columns: {}\".format(X_cat.shape, new_columns))\n",
        "\n",
        "# Step 2: Append the numerical columns\n",
        "import numpy\n",
        "import pandas\n",
        "X = numpy.hstack([X_cat, melb_df[numerical_cols].values])\n",
        "new_columns.extend(numerical_cols)\n",
        "print(\"Matrix has shape {}, with columns: {}\".format(X_cat.shape, new_columns))\n",
        "\n",
        "# Step 3: Append some new features, like PCA\n",
        "pca = PCA(n_components=2)\n",
        "pca_dummy_features = pca.fit_transform(X)\n",
        "X_pca = numpy.hstack([X, pca_dummy_features])\n",
        "new_columns.extend(['pca1', 'pca2'])\n",
        "\n",
        "## Re-build dataframe\n",
        "processed_melb_df = pandas.DataFrame(data=X_pca, columns=new_columns)\n",
        "processed_melb_df.head()"
      ],
      "execution_count": null,
      "outputs": [
        {
          "output_type": "stream",
          "text": [
            "Matrix has shape (13441, 9), with columns: ['Type=h', 'Type=t', 'Type=u', 'Regionname=Eastern Metropolitan', 'Regionname=Northern Metropolitan', 'Regionname=South-Eastern Metropolitan', 'Regionname=Southern Metropolitan', 'Regionname=Victoria', 'Regionname=Western Metropolitan']\n",
            "Matrix has shape (13441, 9), with columns: ['Type=h', 'Type=t', 'Type=u', 'Regionname=Eastern Metropolitan', 'Regionname=Northern Metropolitan', 'Regionname=South-Eastern Metropolitan', 'Regionname=Southern Metropolitan', 'Regionname=Victoria', 'Regionname=Western Metropolitan', 'Rooms', 'Distance']\n"
          ],
          "name": "stdout"
        },
        {
          "output_type": "execute_result",
          "data": {
            "text/html": [
              "<div>\n",
              "<style scoped>\n",
              "    .dataframe tbody tr th:only-of-type {\n",
              "        vertical-align: middle;\n",
              "    }\n",
              "\n",
              "    .dataframe tbody tr th {\n",
              "        vertical-align: top;\n",
              "    }\n",
              "\n",
              "    .dataframe thead th {\n",
              "        text-align: right;\n",
              "    }\n",
              "</style>\n",
              "<table border=\"1\" class=\"dataframe\">\n",
              "  <thead>\n",
              "    <tr style=\"text-align: right;\">\n",
              "      <th></th>\n",
              "      <th>Type=h</th>\n",
              "      <th>Type=t</th>\n",
              "      <th>Type=u</th>\n",
              "      <th>Regionname=Eastern Metropolitan</th>\n",
              "      <th>Regionname=Northern Metropolitan</th>\n",
              "      <th>Regionname=South-Eastern Metropolitan</th>\n",
              "      <th>Regionname=Southern Metropolitan</th>\n",
              "      <th>Regionname=Victoria</th>\n",
              "      <th>Regionname=Western Metropolitan</th>\n",
              "      <th>Rooms</th>\n",
              "      <th>Distance</th>\n",
              "      <th>pca1</th>\n",
              "      <th>pca2</th>\n",
              "    </tr>\n",
              "  </thead>\n",
              "  <tbody>\n",
              "    <tr>\n",
              "      <th>0</th>\n",
              "      <td>1.0</td>\n",
              "      <td>0.0</td>\n",
              "      <td>0.0</td>\n",
              "      <td>0.0</td>\n",
              "      <td>1.0</td>\n",
              "      <td>0.0</td>\n",
              "      <td>0.0</td>\n",
              "      <td>0.0</td>\n",
              "      <td>0.0</td>\n",
              "      <td>2.0</td>\n",
              "      <td>2.5</td>\n",
              "      <td>-7.650841</td>\n",
              "      <td>-0.266237</td>\n",
              "    </tr>\n",
              "    <tr>\n",
              "      <th>1</th>\n",
              "      <td>1.0</td>\n",
              "      <td>0.0</td>\n",
              "      <td>0.0</td>\n",
              "      <td>0.0</td>\n",
              "      <td>1.0</td>\n",
              "      <td>0.0</td>\n",
              "      <td>0.0</td>\n",
              "      <td>0.0</td>\n",
              "      <td>0.0</td>\n",
              "      <td>2.0</td>\n",
              "      <td>2.5</td>\n",
              "      <td>-7.650841</td>\n",
              "      <td>-0.266237</td>\n",
              "    </tr>\n",
              "    <tr>\n",
              "      <th>2</th>\n",
              "      <td>1.0</td>\n",
              "      <td>0.0</td>\n",
              "      <td>0.0</td>\n",
              "      <td>0.0</td>\n",
              "      <td>1.0</td>\n",
              "      <td>0.0</td>\n",
              "      <td>0.0</td>\n",
              "      <td>0.0</td>\n",
              "      <td>0.0</td>\n",
              "      <td>3.0</td>\n",
              "      <td>2.5</td>\n",
              "      <td>-7.600617</td>\n",
              "      <td>0.640855</td>\n",
              "    </tr>\n",
              "    <tr>\n",
              "      <th>3</th>\n",
              "      <td>1.0</td>\n",
              "      <td>0.0</td>\n",
              "      <td>0.0</td>\n",
              "      <td>0.0</td>\n",
              "      <td>1.0</td>\n",
              "      <td>0.0</td>\n",
              "      <td>0.0</td>\n",
              "      <td>0.0</td>\n",
              "      <td>0.0</td>\n",
              "      <td>3.0</td>\n",
              "      <td>2.5</td>\n",
              "      <td>-7.600617</td>\n",
              "      <td>0.640855</td>\n",
              "    </tr>\n",
              "    <tr>\n",
              "      <th>4</th>\n",
              "      <td>1.0</td>\n",
              "      <td>0.0</td>\n",
              "      <td>0.0</td>\n",
              "      <td>0.0</td>\n",
              "      <td>1.0</td>\n",
              "      <td>0.0</td>\n",
              "      <td>0.0</td>\n",
              "      <td>0.0</td>\n",
              "      <td>0.0</td>\n",
              "      <td>4.0</td>\n",
              "      <td>2.5</td>\n",
              "      <td>-7.550392</td>\n",
              "      <td>1.547948</td>\n",
              "    </tr>\n",
              "  </tbody>\n",
              "</table>\n",
              "</div>"
            ],
            "text/plain": [
              "   Type=h  Type=t  Type=u  ...  Distance      pca1      pca2\n",
              "0     1.0     0.0     0.0  ...       2.5 -7.650841 -0.266237\n",
              "1     1.0     0.0     0.0  ...       2.5 -7.650841 -0.266237\n",
              "2     1.0     0.0     0.0  ...       2.5 -7.600617  0.640855\n",
              "3     1.0     0.0     0.0  ...       2.5 -7.600617  0.640855\n",
              "4     1.0     0.0     0.0  ...       2.5 -7.550392  1.547948\n",
              "\n",
              "[5 rows x 13 columns]"
            ]
          },
          "metadata": {
            "tags": []
          },
          "execution_count": 62
        }
      ]
    },
    {
      "cell_type": "code",
      "metadata": {
        "id": "NRnJGWXFlctj"
      },
      "source": [
        "melb_df_final.to_csv(\"melb_df_final\")"
      ],
      "execution_count": null,
      "outputs": []
    },
    {
      "cell_type": "markdown",
      "metadata": {
        "id": "mVBLFc8PhRtW"
      },
      "source": [
        "## Ejercicio 5: Documentación\n",
        "\n",
        "En un documento `.pdf` o `.md` realizar un reporte de las operaciones que realizaron para obtener el conjunto de datos final. Se debe incluir:\n",
        "  1. Criterios de exclusión (o inclusión) de filas\n",
        "  2. Interpretación de las columnas presentes\n",
        "  2. Todas las transofrmaciones realizadas\n",
        "\n",
        "Este documento es de uso técnico exclusivamente, y su objetivo es permitir que otres desarrolladores puedan reproducir los mismos pasos y obtener el mismo resultado. Debe ser detallado pero consiso. Por ejemplo:\n",
        "\n",
        "```\n",
        "  ## Criterios de exclusión de ejemplos\n",
        "  1. Se eliminan ejemplos donde el año de construcción es previo a 1900\n",
        "\n",
        "  ## Características seleccionadas\n",
        "  ### Características categóricas\n",
        "  1. Type: tipo de propiedad. 3 valores posibles\n",
        "  2. ...\n",
        "  Todas las características categóricas fueron codificadas con un\n",
        "  método OneHotEncoding utilizando como máximo sus 30 valores más \n",
        "  frecuentes.\n",
        "  \n",
        "  ### Características numéricas\n",
        "  1. Rooms: Cantidad de habitaciones\n",
        "  2. Distance: Distancia al centro de la ciudad.\n",
        "  3. airbnb_mean_price: Se agrega el precio promedio diario de \n",
        "     publicaciones de la plataforma AirBnB en el mismo código \n",
        "     postal. [Link al repositorio con datos externos].\n",
        "\n",
        "  ### Transformaciones:\n",
        "  1. Todas las características numéricas fueron estandarizadas.\n",
        "  2. La columna `Suburb` fue imputada utilizando el método ...\n",
        "  3. Las columnas `YearBuilt` y ... fueron imputadas utilizando el \n",
        "     algoritmo ...\n",
        "  4. ...\n",
        "\n",
        "  ### Datos aumentados\n",
        "  1. Se agregan las 5 primeras columnas obtenidas a través del\n",
        "     método de PCA, aplicado sobre el conjunto de datos\n",
        "     totalmente procesado.\n",
        "```\n"
      ]
    },
    {
      "cell_type": "markdown",
      "metadata": {
        "id": "Bq7nuPg2HIYx"
      },
      "source": [
        ""
      ]
    }
  ]
}